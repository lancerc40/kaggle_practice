{
 "cells": [
  {
   "cell_type": "code",
   "execution_count": 1,
   "metadata": {
    "collapsed": true
   },
   "outputs": [],
   "source": [
    "import pandas as pd\n",
    "import matplotlib.pyplot as plt\n",
    "import seaborn as sns\n",
    "import numpy as np\n",
    "\n",
    "from scipy.stats import norm\n",
    "from scipy import stats\n",
    "from sklearn.linear_model import (LinearRegression as LR, Ridge, Lasso)\n",
    "\n",
    "import matplotlib.pyplot as plt\n",
    "%matplotlib inline"
   ]
  },
  {
   "cell_type": "code",
   "execution_count": 2,
   "metadata": {
    "collapsed": true
   },
   "outputs": [],
   "source": [
    "train = pd.read_csv(\"train.csv\")"
   ]
  },
  {
   "cell_type": "code",
   "execution_count": 3,
   "metadata": {},
   "outputs": [
    {
     "data": {
      "text/html": [
       "<div>\n",
       "<style>\n",
       "    .dataframe thead tr:only-child th {\n",
       "        text-align: right;\n",
       "    }\n",
       "\n",
       "    .dataframe thead th {\n",
       "        text-align: left;\n",
       "    }\n",
       "\n",
       "    .dataframe tbody tr th {\n",
       "        vertical-align: top;\n",
       "    }\n",
       "</style>\n",
       "<table border=\"1\" class=\"dataframe\">\n",
       "  <thead>\n",
       "    <tr style=\"text-align: right;\">\n",
       "      <th></th>\n",
       "      <th>Id</th>\n",
       "      <th>MSSubClass</th>\n",
       "      <th>MSZoning</th>\n",
       "      <th>LotFrontage</th>\n",
       "      <th>LotArea</th>\n",
       "      <th>Street</th>\n",
       "      <th>Alley</th>\n",
       "      <th>LotShape</th>\n",
       "      <th>LandContour</th>\n",
       "      <th>Utilities</th>\n",
       "      <th>...</th>\n",
       "      <th>PoolArea</th>\n",
       "      <th>PoolQC</th>\n",
       "      <th>Fence</th>\n",
       "      <th>MiscFeature</th>\n",
       "      <th>MiscVal</th>\n",
       "      <th>MoSold</th>\n",
       "      <th>YrSold</th>\n",
       "      <th>SaleType</th>\n",
       "      <th>SaleCondition</th>\n",
       "      <th>SalePrice</th>\n",
       "    </tr>\n",
       "  </thead>\n",
       "  <tbody>\n",
       "    <tr>\n",
       "      <th>1455</th>\n",
       "      <td>1456</td>\n",
       "      <td>60</td>\n",
       "      <td>RL</td>\n",
       "      <td>62.0</td>\n",
       "      <td>7917</td>\n",
       "      <td>Pave</td>\n",
       "      <td>NaN</td>\n",
       "      <td>Reg</td>\n",
       "      <td>Lvl</td>\n",
       "      <td>AllPub</td>\n",
       "      <td>...</td>\n",
       "      <td>0</td>\n",
       "      <td>NaN</td>\n",
       "      <td>NaN</td>\n",
       "      <td>NaN</td>\n",
       "      <td>0</td>\n",
       "      <td>8</td>\n",
       "      <td>2007</td>\n",
       "      <td>WD</td>\n",
       "      <td>Normal</td>\n",
       "      <td>175000</td>\n",
       "    </tr>\n",
       "    <tr>\n",
       "      <th>1456</th>\n",
       "      <td>1457</td>\n",
       "      <td>20</td>\n",
       "      <td>RL</td>\n",
       "      <td>85.0</td>\n",
       "      <td>13175</td>\n",
       "      <td>Pave</td>\n",
       "      <td>NaN</td>\n",
       "      <td>Reg</td>\n",
       "      <td>Lvl</td>\n",
       "      <td>AllPub</td>\n",
       "      <td>...</td>\n",
       "      <td>0</td>\n",
       "      <td>NaN</td>\n",
       "      <td>MnPrv</td>\n",
       "      <td>NaN</td>\n",
       "      <td>0</td>\n",
       "      <td>2</td>\n",
       "      <td>2010</td>\n",
       "      <td>WD</td>\n",
       "      <td>Normal</td>\n",
       "      <td>210000</td>\n",
       "    </tr>\n",
       "    <tr>\n",
       "      <th>1457</th>\n",
       "      <td>1458</td>\n",
       "      <td>70</td>\n",
       "      <td>RL</td>\n",
       "      <td>66.0</td>\n",
       "      <td>9042</td>\n",
       "      <td>Pave</td>\n",
       "      <td>NaN</td>\n",
       "      <td>Reg</td>\n",
       "      <td>Lvl</td>\n",
       "      <td>AllPub</td>\n",
       "      <td>...</td>\n",
       "      <td>0</td>\n",
       "      <td>NaN</td>\n",
       "      <td>GdPrv</td>\n",
       "      <td>Shed</td>\n",
       "      <td>2500</td>\n",
       "      <td>5</td>\n",
       "      <td>2010</td>\n",
       "      <td>WD</td>\n",
       "      <td>Normal</td>\n",
       "      <td>266500</td>\n",
       "    </tr>\n",
       "    <tr>\n",
       "      <th>1458</th>\n",
       "      <td>1459</td>\n",
       "      <td>20</td>\n",
       "      <td>RL</td>\n",
       "      <td>68.0</td>\n",
       "      <td>9717</td>\n",
       "      <td>Pave</td>\n",
       "      <td>NaN</td>\n",
       "      <td>Reg</td>\n",
       "      <td>Lvl</td>\n",
       "      <td>AllPub</td>\n",
       "      <td>...</td>\n",
       "      <td>0</td>\n",
       "      <td>NaN</td>\n",
       "      <td>NaN</td>\n",
       "      <td>NaN</td>\n",
       "      <td>0</td>\n",
       "      <td>4</td>\n",
       "      <td>2010</td>\n",
       "      <td>WD</td>\n",
       "      <td>Normal</td>\n",
       "      <td>142125</td>\n",
       "    </tr>\n",
       "    <tr>\n",
       "      <th>1459</th>\n",
       "      <td>1460</td>\n",
       "      <td>20</td>\n",
       "      <td>RL</td>\n",
       "      <td>75.0</td>\n",
       "      <td>9937</td>\n",
       "      <td>Pave</td>\n",
       "      <td>NaN</td>\n",
       "      <td>Reg</td>\n",
       "      <td>Lvl</td>\n",
       "      <td>AllPub</td>\n",
       "      <td>...</td>\n",
       "      <td>0</td>\n",
       "      <td>NaN</td>\n",
       "      <td>NaN</td>\n",
       "      <td>NaN</td>\n",
       "      <td>0</td>\n",
       "      <td>6</td>\n",
       "      <td>2008</td>\n",
       "      <td>WD</td>\n",
       "      <td>Normal</td>\n",
       "      <td>147500</td>\n",
       "    </tr>\n",
       "  </tbody>\n",
       "</table>\n",
       "<p>5 rows × 81 columns</p>\n",
       "</div>"
      ],
      "text/plain": [
       "        Id  MSSubClass MSZoning  LotFrontage  LotArea Street Alley LotShape  \\\n",
       "1455  1456          60       RL         62.0     7917   Pave   NaN      Reg   \n",
       "1456  1457          20       RL         85.0    13175   Pave   NaN      Reg   \n",
       "1457  1458          70       RL         66.0     9042   Pave   NaN      Reg   \n",
       "1458  1459          20       RL         68.0     9717   Pave   NaN      Reg   \n",
       "1459  1460          20       RL         75.0     9937   Pave   NaN      Reg   \n",
       "\n",
       "     LandContour Utilities    ...     PoolArea PoolQC  Fence MiscFeature  \\\n",
       "1455         Lvl    AllPub    ...            0    NaN    NaN         NaN   \n",
       "1456         Lvl    AllPub    ...            0    NaN  MnPrv         NaN   \n",
       "1457         Lvl    AllPub    ...            0    NaN  GdPrv        Shed   \n",
       "1458         Lvl    AllPub    ...            0    NaN    NaN         NaN   \n",
       "1459         Lvl    AllPub    ...            0    NaN    NaN         NaN   \n",
       "\n",
       "     MiscVal MoSold YrSold  SaleType  SaleCondition  SalePrice  \n",
       "1455       0      8   2007        WD         Normal     175000  \n",
       "1456       0      2   2010        WD         Normal     210000  \n",
       "1457    2500      5   2010        WD         Normal     266500  \n",
       "1458       0      4   2010        WD         Normal     142125  \n",
       "1459       0      6   2008        WD         Normal     147500  \n",
       "\n",
       "[5 rows x 81 columns]"
      ]
     },
     "execution_count": 3,
     "metadata": {},
     "output_type": "execute_result"
    }
   ],
   "source": [
    "train.tail()"
   ]
  },
  {
   "cell_type": "code",
   "execution_count": 4,
   "metadata": {},
   "outputs": [
    {
     "data": {
      "text/plain": [
       "(1460, 81)"
      ]
     },
     "execution_count": 4,
     "metadata": {},
     "output_type": "execute_result"
    }
   ],
   "source": [
    "train.shape"
   ]
  },
  {
   "cell_type": "code",
   "execution_count": 5,
   "metadata": {
    "collapsed": true
   },
   "outputs": [],
   "source": [
    "test = pd.read_csv(\"test.csv\")"
   ]
  },
  {
   "cell_type": "code",
   "execution_count": 6,
   "metadata": {},
   "outputs": [
    {
     "data": {
      "text/html": [
       "<div>\n",
       "<style>\n",
       "    .dataframe thead tr:only-child th {\n",
       "        text-align: right;\n",
       "    }\n",
       "\n",
       "    .dataframe thead th {\n",
       "        text-align: left;\n",
       "    }\n",
       "\n",
       "    .dataframe tbody tr th {\n",
       "        vertical-align: top;\n",
       "    }\n",
       "</style>\n",
       "<table border=\"1\" class=\"dataframe\">\n",
       "  <thead>\n",
       "    <tr style=\"text-align: right;\">\n",
       "      <th></th>\n",
       "      <th>Id</th>\n",
       "      <th>MSSubClass</th>\n",
       "      <th>MSZoning</th>\n",
       "      <th>LotFrontage</th>\n",
       "      <th>LotArea</th>\n",
       "      <th>Street</th>\n",
       "      <th>Alley</th>\n",
       "      <th>LotShape</th>\n",
       "      <th>LandContour</th>\n",
       "      <th>Utilities</th>\n",
       "      <th>...</th>\n",
       "      <th>ScreenPorch</th>\n",
       "      <th>PoolArea</th>\n",
       "      <th>PoolQC</th>\n",
       "      <th>Fence</th>\n",
       "      <th>MiscFeature</th>\n",
       "      <th>MiscVal</th>\n",
       "      <th>MoSold</th>\n",
       "      <th>YrSold</th>\n",
       "      <th>SaleType</th>\n",
       "      <th>SaleCondition</th>\n",
       "    </tr>\n",
       "  </thead>\n",
       "  <tbody>\n",
       "    <tr>\n",
       "      <th>0</th>\n",
       "      <td>1461</td>\n",
       "      <td>20</td>\n",
       "      <td>RH</td>\n",
       "      <td>80.0</td>\n",
       "      <td>11622</td>\n",
       "      <td>Pave</td>\n",
       "      <td>NaN</td>\n",
       "      <td>Reg</td>\n",
       "      <td>Lvl</td>\n",
       "      <td>AllPub</td>\n",
       "      <td>...</td>\n",
       "      <td>120</td>\n",
       "      <td>0</td>\n",
       "      <td>NaN</td>\n",
       "      <td>MnPrv</td>\n",
       "      <td>NaN</td>\n",
       "      <td>0</td>\n",
       "      <td>6</td>\n",
       "      <td>2010</td>\n",
       "      <td>WD</td>\n",
       "      <td>Normal</td>\n",
       "    </tr>\n",
       "    <tr>\n",
       "      <th>1</th>\n",
       "      <td>1462</td>\n",
       "      <td>20</td>\n",
       "      <td>RL</td>\n",
       "      <td>81.0</td>\n",
       "      <td>14267</td>\n",
       "      <td>Pave</td>\n",
       "      <td>NaN</td>\n",
       "      <td>IR1</td>\n",
       "      <td>Lvl</td>\n",
       "      <td>AllPub</td>\n",
       "      <td>...</td>\n",
       "      <td>0</td>\n",
       "      <td>0</td>\n",
       "      <td>NaN</td>\n",
       "      <td>NaN</td>\n",
       "      <td>Gar2</td>\n",
       "      <td>12500</td>\n",
       "      <td>6</td>\n",
       "      <td>2010</td>\n",
       "      <td>WD</td>\n",
       "      <td>Normal</td>\n",
       "    </tr>\n",
       "    <tr>\n",
       "      <th>2</th>\n",
       "      <td>1463</td>\n",
       "      <td>60</td>\n",
       "      <td>RL</td>\n",
       "      <td>74.0</td>\n",
       "      <td>13830</td>\n",
       "      <td>Pave</td>\n",
       "      <td>NaN</td>\n",
       "      <td>IR1</td>\n",
       "      <td>Lvl</td>\n",
       "      <td>AllPub</td>\n",
       "      <td>...</td>\n",
       "      <td>0</td>\n",
       "      <td>0</td>\n",
       "      <td>NaN</td>\n",
       "      <td>MnPrv</td>\n",
       "      <td>NaN</td>\n",
       "      <td>0</td>\n",
       "      <td>3</td>\n",
       "      <td>2010</td>\n",
       "      <td>WD</td>\n",
       "      <td>Normal</td>\n",
       "    </tr>\n",
       "    <tr>\n",
       "      <th>3</th>\n",
       "      <td>1464</td>\n",
       "      <td>60</td>\n",
       "      <td>RL</td>\n",
       "      <td>78.0</td>\n",
       "      <td>9978</td>\n",
       "      <td>Pave</td>\n",
       "      <td>NaN</td>\n",
       "      <td>IR1</td>\n",
       "      <td>Lvl</td>\n",
       "      <td>AllPub</td>\n",
       "      <td>...</td>\n",
       "      <td>0</td>\n",
       "      <td>0</td>\n",
       "      <td>NaN</td>\n",
       "      <td>NaN</td>\n",
       "      <td>NaN</td>\n",
       "      <td>0</td>\n",
       "      <td>6</td>\n",
       "      <td>2010</td>\n",
       "      <td>WD</td>\n",
       "      <td>Normal</td>\n",
       "    </tr>\n",
       "    <tr>\n",
       "      <th>4</th>\n",
       "      <td>1465</td>\n",
       "      <td>120</td>\n",
       "      <td>RL</td>\n",
       "      <td>43.0</td>\n",
       "      <td>5005</td>\n",
       "      <td>Pave</td>\n",
       "      <td>NaN</td>\n",
       "      <td>IR1</td>\n",
       "      <td>HLS</td>\n",
       "      <td>AllPub</td>\n",
       "      <td>...</td>\n",
       "      <td>144</td>\n",
       "      <td>0</td>\n",
       "      <td>NaN</td>\n",
       "      <td>NaN</td>\n",
       "      <td>NaN</td>\n",
       "      <td>0</td>\n",
       "      <td>1</td>\n",
       "      <td>2010</td>\n",
       "      <td>WD</td>\n",
       "      <td>Normal</td>\n",
       "    </tr>\n",
       "  </tbody>\n",
       "</table>\n",
       "<p>5 rows × 80 columns</p>\n",
       "</div>"
      ],
      "text/plain": [
       "     Id  MSSubClass MSZoning  LotFrontage  LotArea Street Alley LotShape  \\\n",
       "0  1461          20       RH         80.0    11622   Pave   NaN      Reg   \n",
       "1  1462          20       RL         81.0    14267   Pave   NaN      IR1   \n",
       "2  1463          60       RL         74.0    13830   Pave   NaN      IR1   \n",
       "3  1464          60       RL         78.0     9978   Pave   NaN      IR1   \n",
       "4  1465         120       RL         43.0     5005   Pave   NaN      IR1   \n",
       "\n",
       "  LandContour Utilities      ...       ScreenPorch PoolArea PoolQC  Fence  \\\n",
       "0         Lvl    AllPub      ...               120        0    NaN  MnPrv   \n",
       "1         Lvl    AllPub      ...                 0        0    NaN    NaN   \n",
       "2         Lvl    AllPub      ...                 0        0    NaN  MnPrv   \n",
       "3         Lvl    AllPub      ...                 0        0    NaN    NaN   \n",
       "4         HLS    AllPub      ...               144        0    NaN    NaN   \n",
       "\n",
       "  MiscFeature MiscVal MoSold  YrSold  SaleType  SaleCondition  \n",
       "0         NaN       0      6    2010        WD         Normal  \n",
       "1        Gar2   12500      6    2010        WD         Normal  \n",
       "2         NaN       0      3    2010        WD         Normal  \n",
       "3         NaN       0      6    2010        WD         Normal  \n",
       "4         NaN       0      1    2010        WD         Normal  \n",
       "\n",
       "[5 rows x 80 columns]"
      ]
     },
     "execution_count": 6,
     "metadata": {},
     "output_type": "execute_result"
    }
   ],
   "source": [
    "test.head()"
   ]
  },
  {
   "cell_type": "code",
   "execution_count": 7,
   "metadata": {},
   "outputs": [
    {
     "data": {
      "text/html": [
       "<div>\n",
       "<style>\n",
       "    .dataframe thead tr:only-child th {\n",
       "        text-align: right;\n",
       "    }\n",
       "\n",
       "    .dataframe thead th {\n",
       "        text-align: left;\n",
       "    }\n",
       "\n",
       "    .dataframe tbody tr th {\n",
       "        vertical-align: top;\n",
       "    }\n",
       "</style>\n",
       "<table border=\"1\" class=\"dataframe\">\n",
       "  <thead>\n",
       "    <tr style=\"text-align: right;\">\n",
       "      <th></th>\n",
       "      <th>Id</th>\n",
       "      <th>MSSubClass</th>\n",
       "      <th>MSZoning</th>\n",
       "      <th>LotFrontage</th>\n",
       "      <th>LotArea</th>\n",
       "      <th>Street</th>\n",
       "      <th>Alley</th>\n",
       "      <th>LotShape</th>\n",
       "      <th>LandContour</th>\n",
       "      <th>Utilities</th>\n",
       "      <th>...</th>\n",
       "      <th>ScreenPorch</th>\n",
       "      <th>PoolArea</th>\n",
       "      <th>PoolQC</th>\n",
       "      <th>Fence</th>\n",
       "      <th>MiscFeature</th>\n",
       "      <th>MiscVal</th>\n",
       "      <th>MoSold</th>\n",
       "      <th>YrSold</th>\n",
       "      <th>SaleType</th>\n",
       "      <th>SaleCondition</th>\n",
       "    </tr>\n",
       "  </thead>\n",
       "  <tbody>\n",
       "    <tr>\n",
       "      <th>1454</th>\n",
       "      <td>2915</td>\n",
       "      <td>160</td>\n",
       "      <td>RM</td>\n",
       "      <td>21.0</td>\n",
       "      <td>1936</td>\n",
       "      <td>Pave</td>\n",
       "      <td>NaN</td>\n",
       "      <td>Reg</td>\n",
       "      <td>Lvl</td>\n",
       "      <td>AllPub</td>\n",
       "      <td>...</td>\n",
       "      <td>0</td>\n",
       "      <td>0</td>\n",
       "      <td>NaN</td>\n",
       "      <td>NaN</td>\n",
       "      <td>NaN</td>\n",
       "      <td>0</td>\n",
       "      <td>6</td>\n",
       "      <td>2006</td>\n",
       "      <td>WD</td>\n",
       "      <td>Normal</td>\n",
       "    </tr>\n",
       "    <tr>\n",
       "      <th>1455</th>\n",
       "      <td>2916</td>\n",
       "      <td>160</td>\n",
       "      <td>RM</td>\n",
       "      <td>21.0</td>\n",
       "      <td>1894</td>\n",
       "      <td>Pave</td>\n",
       "      <td>NaN</td>\n",
       "      <td>Reg</td>\n",
       "      <td>Lvl</td>\n",
       "      <td>AllPub</td>\n",
       "      <td>...</td>\n",
       "      <td>0</td>\n",
       "      <td>0</td>\n",
       "      <td>NaN</td>\n",
       "      <td>NaN</td>\n",
       "      <td>NaN</td>\n",
       "      <td>0</td>\n",
       "      <td>4</td>\n",
       "      <td>2006</td>\n",
       "      <td>WD</td>\n",
       "      <td>Abnorml</td>\n",
       "    </tr>\n",
       "    <tr>\n",
       "      <th>1456</th>\n",
       "      <td>2917</td>\n",
       "      <td>20</td>\n",
       "      <td>RL</td>\n",
       "      <td>160.0</td>\n",
       "      <td>20000</td>\n",
       "      <td>Pave</td>\n",
       "      <td>NaN</td>\n",
       "      <td>Reg</td>\n",
       "      <td>Lvl</td>\n",
       "      <td>AllPub</td>\n",
       "      <td>...</td>\n",
       "      <td>0</td>\n",
       "      <td>0</td>\n",
       "      <td>NaN</td>\n",
       "      <td>NaN</td>\n",
       "      <td>NaN</td>\n",
       "      <td>0</td>\n",
       "      <td>9</td>\n",
       "      <td>2006</td>\n",
       "      <td>WD</td>\n",
       "      <td>Abnorml</td>\n",
       "    </tr>\n",
       "    <tr>\n",
       "      <th>1457</th>\n",
       "      <td>2918</td>\n",
       "      <td>85</td>\n",
       "      <td>RL</td>\n",
       "      <td>62.0</td>\n",
       "      <td>10441</td>\n",
       "      <td>Pave</td>\n",
       "      <td>NaN</td>\n",
       "      <td>Reg</td>\n",
       "      <td>Lvl</td>\n",
       "      <td>AllPub</td>\n",
       "      <td>...</td>\n",
       "      <td>0</td>\n",
       "      <td>0</td>\n",
       "      <td>NaN</td>\n",
       "      <td>MnPrv</td>\n",
       "      <td>Shed</td>\n",
       "      <td>700</td>\n",
       "      <td>7</td>\n",
       "      <td>2006</td>\n",
       "      <td>WD</td>\n",
       "      <td>Normal</td>\n",
       "    </tr>\n",
       "    <tr>\n",
       "      <th>1458</th>\n",
       "      <td>2919</td>\n",
       "      <td>60</td>\n",
       "      <td>RL</td>\n",
       "      <td>74.0</td>\n",
       "      <td>9627</td>\n",
       "      <td>Pave</td>\n",
       "      <td>NaN</td>\n",
       "      <td>Reg</td>\n",
       "      <td>Lvl</td>\n",
       "      <td>AllPub</td>\n",
       "      <td>...</td>\n",
       "      <td>0</td>\n",
       "      <td>0</td>\n",
       "      <td>NaN</td>\n",
       "      <td>NaN</td>\n",
       "      <td>NaN</td>\n",
       "      <td>0</td>\n",
       "      <td>11</td>\n",
       "      <td>2006</td>\n",
       "      <td>WD</td>\n",
       "      <td>Normal</td>\n",
       "    </tr>\n",
       "  </tbody>\n",
       "</table>\n",
       "<p>5 rows × 80 columns</p>\n",
       "</div>"
      ],
      "text/plain": [
       "        Id  MSSubClass MSZoning  LotFrontage  LotArea Street Alley LotShape  \\\n",
       "1454  2915         160       RM         21.0     1936   Pave   NaN      Reg   \n",
       "1455  2916         160       RM         21.0     1894   Pave   NaN      Reg   \n",
       "1456  2917          20       RL        160.0    20000   Pave   NaN      Reg   \n",
       "1457  2918          85       RL         62.0    10441   Pave   NaN      Reg   \n",
       "1458  2919          60       RL         74.0     9627   Pave   NaN      Reg   \n",
       "\n",
       "     LandContour Utilities      ...       ScreenPorch PoolArea PoolQC  Fence  \\\n",
       "1454         Lvl    AllPub      ...                 0        0    NaN    NaN   \n",
       "1455         Lvl    AllPub      ...                 0        0    NaN    NaN   \n",
       "1456         Lvl    AllPub      ...                 0        0    NaN    NaN   \n",
       "1457         Lvl    AllPub      ...                 0        0    NaN  MnPrv   \n",
       "1458         Lvl    AllPub      ...                 0        0    NaN    NaN   \n",
       "\n",
       "     MiscFeature MiscVal MoSold  YrSold  SaleType  SaleCondition  \n",
       "1454         NaN       0      6    2006        WD         Normal  \n",
       "1455         NaN       0      4    2006        WD        Abnorml  \n",
       "1456         NaN       0      9    2006        WD        Abnorml  \n",
       "1457        Shed     700      7    2006        WD         Normal  \n",
       "1458         NaN       0     11    2006        WD         Normal  \n",
       "\n",
       "[5 rows x 80 columns]"
      ]
     },
     "execution_count": 7,
     "metadata": {},
     "output_type": "execute_result"
    }
   ],
   "source": [
    "test.tail()"
   ]
  },
  {
   "cell_type": "code",
   "execution_count": 8,
   "metadata": {},
   "outputs": [
    {
     "data": {
      "text/plain": [
       "(1459, 80)"
      ]
     },
     "execution_count": 8,
     "metadata": {},
     "output_type": "execute_result"
    }
   ],
   "source": [
    "test.shape"
   ]
  },
  {
   "cell_type": "markdown",
   "metadata": {},
   "source": [
    "# データの連結"
   ]
  },
  {
   "cell_type": "code",
   "execution_count": 9,
   "metadata": {
    "collapsed": true
   },
   "outputs": [],
   "source": [
    "y_train = train.SalePrice.values"
   ]
  },
  {
   "cell_type": "markdown",
   "metadata": {},
   "source": [
    "# 外れ値除去"
   ]
  },
  {
   "cell_type": "markdown",
   "metadata": {},
   "source": [
    "GrLivAreaに外れ値がある"
   ]
  },
  {
   "cell_type": "code",
   "execution_count": 10,
   "metadata": {},
   "outputs": [
    {
     "data": {
      "image/png": "[encoded data removed]",
      "text/plain": [
       "<matplotlib.figure.Figure at 0x1f0e65a04a8>"
      ]
     },
     "metadata": {},
     "output_type": "display_data"
    }
   ],
   "source": [
    "# 外れ値の確認\n",
    "plt.scatter(x = train[\"GrLivArea\"], y = train[\"SalePrice\"])\n",
    "plt.ylabel(\"SalePrice\", fontsize = 15)\n",
    "plt.xlabel(\"GrLivArea\", fontsize = 15 )\n",
    "plt.show()"
   ]
  },
  {
   "cell_type": "code",
   "execution_count": 11,
   "metadata": {
    "collapsed": true
   },
   "outputs": [],
   "source": [
    "# 外れ値除去\n",
    "train = train.drop(train[(train['GrLivArea']>4000) & (train['SalePrice']<300000)].index)"
   ]
  },
  {
   "cell_type": "code",
   "execution_count": 12,
   "metadata": {},
   "outputs": [
    {
     "data": {
      "image/png": "[encoded data removed]",
      "text/plain": [
       "<matplotlib.figure.Figure at 0x1f0e65a0ef0>"
      ]
     },
     "metadata": {},
     "output_type": "display_data"
    }
   ],
   "source": [
    "plt.scatter(x = train[\"GrLivArea\"], y = train[\"SalePrice\"])\n",
    "plt.ylabel(\"SalePrice\", fontsize = 15)\n",
    "plt.xlabel(\"GrLivArea\", fontsize = 15 )\n",
    "plt.show()"
   ]
  },
  {
   "cell_type": "markdown",
   "metadata": {},
   "source": [
    "all_data.drop(['1stFlrSF','GarageArea','TotRmsAbvGrd', 'GarageYrBlt'], axis=1, inplace=True)   \n",
    "  なぜdropしたかわからない"
   ]
  },
  {
   "cell_type": "markdown",
   "metadata": {
    "collapsed": true
   },
   "source": [
    "# 目的変数 # 結果　予測したい変数"
   ]
  },
  {
   "cell_type": "code",
   "execution_count": 13,
   "metadata": {},
   "outputs": [
    {
     "name": "stderr",
     "output_type": "stream",
     "text": [
      "C:\\Users\\koike\\Anaconda3\\lib\\site-packages\\scipy\\stats\\stats.py:1633: FutureWarning: Using a non-tuple sequence for multidimensional indexing is deprecated; use `arr[tuple(seq)]` instead of `arr[seq]`. In the future this will be interpreted as an array index, `arr[np.array(seq)]`, which will result either in an error or a different result.\n",
      "  return np.add.reduce(sorted[indexer] * weights, axis=axis) / sumval\n"
     ]
    },
    {
     "data": {
      "text/plain": [
       "<matplotlib.axes._subplots.AxesSubplot at 0x1f0e8629a20>"
      ]
     },
     "execution_count": 13,
     "metadata": {},
     "output_type": "execute_result"
    },
    {
     "data": {
      "image/png": "[encoded data removed]",
      "text/plain": [
       "<matplotlib.figure.Figure at 0x1f0e85dca20>"
      ]
     },
     "metadata": {},
     "output_type": "display_data"
    }
   ],
   "source": [
    "sns.distplot(train['SalePrice'])"
   ]
  },
  {
   "cell_type": "markdown",
   "metadata": {
    "collapsed": true
   },
   "source": [
    "# 目的変数のログ変換"
   ]
  },
  {
   "cell_type": "code",
   "execution_count": 14,
   "metadata": {
    "collapsed": true
   },
   "outputs": [],
   "source": [
    "# 目的変数を変換して正規分布にしてみる"
   ]
  },
  {
   "cell_type": "code",
   "execution_count": 15,
   "metadata": {
    "collapsed": true
   },
   "outputs": [],
   "source": [
    "train[\"SalePrice\"] = np.log1p(train[\"SalePrice\"])"
   ]
  },
  {
   "cell_type": "code",
   "execution_count": 16,
   "metadata": {},
   "outputs": [
    {
     "name": "stderr",
     "output_type": "stream",
     "text": [
      "C:\\Users\\koike\\Anaconda3\\lib\\site-packages\\scipy\\stats\\stats.py:1633: FutureWarning: Using a non-tuple sequence for multidimensional indexing is deprecated; use `arr[tuple(seq)]` instead of `arr[seq]`. In the future this will be interpreted as an array index, `arr[np.array(seq)]`, which will result either in an error or a different result.\n",
      "  return np.add.reduce(sorted[indexer] * weights, axis=axis) / sumval\n"
     ]
    },
    {
     "data": {
      "text/plain": [
       "<matplotlib.axes._subplots.AxesSubplot at 0x1f0e877acc0>"
      ]
     },
     "execution_count": 16,
     "metadata": {},
     "output_type": "execute_result"
    },
    {
     "data": {
      "image/png": "[encoded data removed]",
      "text/plain": [
       "<matplotlib.figure.Figure at 0x1f0e88926d8>"
      ]
     },
     "metadata": {},
     "output_type": "display_data"
    }
   ],
   "source": [
    "sns.distplot(train['SalePrice'] )"
   ]
  },
  {
   "cell_type": "markdown",
   "metadata": {},
   "source": [
    "なぜlog変換するのか？ → 弾力性を一定とする"
   ]
  },
  {
   "cell_type": "markdown",
   "metadata": {},
   "source": [
    "YのXに対する弾力性は，その定義により，\n",
    "(dY/Y)/(dX/X)……(1)\n",
    "\n",
    "一方，一般に対数関数logZ,(Z>0)の微分は，dlogZ/dZ=1/Z\n",
    "これから，\n",
    "dlogZ=dZ/Z\n",
    "と書ける。\n",
    "\n",
    "すると，弾力性の表現(1)は，\n",
    "(dY/Y)/(dX/X)=dlogY/dlogX\n",
    "と書ける。\n",
    "この弾力性が，一定の値βだということは，\n",
    "dlogY/dlogX=β\n",
    "この関係は，Yの対数をXの対数に回帰した式\n",
    "logY=α+βlogX\n",
    "と整合的。\n",
    "\n",
    "以上が，弾力性が一定の関係をデータから推定しようとするときに，それぞれの変数の対数をとった回帰式を用いることになる理由。\n",
    "https://oshiete.goo.ne.jp/qa/2408749.html"
   ]
  },
  {
   "cell_type": "markdown",
   "metadata": {},
   "source": [
    "この弾力性が，一定の値βだということは，dlogY/dlogX=β\n",
    "この関係は，Yの対数をXの対数に回帰した式\n",
    "logY=α+βlogX\n",
    "と整合的"
   ]
  },
  {
   "cell_type": "markdown",
   "metadata": {},
   "source": [
    "機械学習における正規分布の効果\n",
    "予測しようとしている値が正規分布に従った方が精度が良くなる"
   ]
  },
  {
   "cell_type": "markdown",
   "metadata": {},
   "source": [
    "数字のばらつき、偏りを小さくする"
   ]
  },
  {
   "cell_type": "markdown",
   "metadata": {},
   "source": [
    "正規化「オーバーフィッティング（過学習）を防止するために値がゼロに近づくようにするテクニック"
   ]
  },
  {
   "cell_type": "code",
   "execution_count": 17,
   "metadata": {},
   "outputs": [
    {
     "data": {
      "text/html": [
       "<div>\n",
       "<style>\n",
       "    .dataframe thead tr:only-child th {\n",
       "        text-align: right;\n",
       "    }\n",
       "\n",
       "    .dataframe thead th {\n",
       "        text-align: left;\n",
       "    }\n",
       "\n",
       "    .dataframe tbody tr th {\n",
       "        vertical-align: top;\n",
       "    }\n",
       "</style>\n",
       "<table border=\"1\" class=\"dataframe\">\n",
       "  <thead>\n",
       "    <tr style=\"text-align: right;\">\n",
       "      <th></th>\n",
       "      <th>Id</th>\n",
       "      <th>MSSubClass</th>\n",
       "      <th>LotFrontage</th>\n",
       "      <th>LotArea</th>\n",
       "      <th>OverallQual</th>\n",
       "      <th>OverallCond</th>\n",
       "      <th>YearBuilt</th>\n",
       "      <th>YearRemodAdd</th>\n",
       "      <th>MasVnrArea</th>\n",
       "      <th>BsmtFinSF1</th>\n",
       "      <th>...</th>\n",
       "      <th>WoodDeckSF</th>\n",
       "      <th>OpenPorchSF</th>\n",
       "      <th>EnclosedPorch</th>\n",
       "      <th>3SsnPorch</th>\n",
       "      <th>ScreenPorch</th>\n",
       "      <th>PoolArea</th>\n",
       "      <th>MiscVal</th>\n",
       "      <th>MoSold</th>\n",
       "      <th>YrSold</th>\n",
       "      <th>SalePrice</th>\n",
       "    </tr>\n",
       "  </thead>\n",
       "  <tbody>\n",
       "    <tr>\n",
       "      <th>count</th>\n",
       "      <td>1458.000000</td>\n",
       "      <td>1458.000000</td>\n",
       "      <td>1199.000000</td>\n",
       "      <td>1458.000000</td>\n",
       "      <td>1458.000000</td>\n",
       "      <td>1458.000000</td>\n",
       "      <td>1458.000000</td>\n",
       "      <td>1458.000000</td>\n",
       "      <td>1450.000000</td>\n",
       "      <td>1458.000000</td>\n",
       "      <td>...</td>\n",
       "      <td>1458.000000</td>\n",
       "      <td>1458.000000</td>\n",
       "      <td>1458.000000</td>\n",
       "      <td>1458.000000</td>\n",
       "      <td>1458.000000</td>\n",
       "      <td>1458.000000</td>\n",
       "      <td>1458.000000</td>\n",
       "      <td>1458.000000</td>\n",
       "      <td>1458.000000</td>\n",
       "      <td>1458.000000</td>\n",
       "    </tr>\n",
       "    <tr>\n",
       "      <th>mean</th>\n",
       "      <td>730.251715</td>\n",
       "      <td>56.893004</td>\n",
       "      <td>69.797331</td>\n",
       "      <td>10459.936900</td>\n",
       "      <td>6.093964</td>\n",
       "      <td>5.576132</td>\n",
       "      <td>1971.218107</td>\n",
       "      <td>1984.834019</td>\n",
       "      <td>102.753793</td>\n",
       "      <td>438.827160</td>\n",
       "      <td>...</td>\n",
       "      <td>94.084362</td>\n",
       "      <td>46.245542</td>\n",
       "      <td>21.984225</td>\n",
       "      <td>3.414266</td>\n",
       "      <td>15.081619</td>\n",
       "      <td>2.433471</td>\n",
       "      <td>43.548697</td>\n",
       "      <td>6.323045</td>\n",
       "      <td>2007.816187</td>\n",
       "      <td>12.024015</td>\n",
       "    </tr>\n",
       "    <tr>\n",
       "      <th>std</th>\n",
       "      <td>421.601532</td>\n",
       "      <td>42.329437</td>\n",
       "      <td>23.203458</td>\n",
       "      <td>9859.198156</td>\n",
       "      <td>1.376369</td>\n",
       "      <td>1.113359</td>\n",
       "      <td>30.193754</td>\n",
       "      <td>20.641760</td>\n",
       "      <td>179.442156</td>\n",
       "      <td>432.969094</td>\n",
       "      <td>...</td>\n",
       "      <td>125.350021</td>\n",
       "      <td>65.312932</td>\n",
       "      <td>61.155666</td>\n",
       "      <td>29.337173</td>\n",
       "      <td>55.792877</td>\n",
       "      <td>38.209947</td>\n",
       "      <td>496.460799</td>\n",
       "      <td>2.700167</td>\n",
       "      <td>1.328826</td>\n",
       "      <td>0.399713</td>\n",
       "    </tr>\n",
       "    <tr>\n",
       "      <th>min</th>\n",
       "      <td>1.000000</td>\n",
       "      <td>20.000000</td>\n",
       "      <td>21.000000</td>\n",
       "      <td>1300.000000</td>\n",
       "      <td>1.000000</td>\n",
       "      <td>1.000000</td>\n",
       "      <td>1872.000000</td>\n",
       "      <td>1950.000000</td>\n",
       "      <td>0.000000</td>\n",
       "      <td>0.000000</td>\n",
       "      <td>...</td>\n",
       "      <td>0.000000</td>\n",
       "      <td>0.000000</td>\n",
       "      <td>0.000000</td>\n",
       "      <td>0.000000</td>\n",
       "      <td>0.000000</td>\n",
       "      <td>0.000000</td>\n",
       "      <td>0.000000</td>\n",
       "      <td>1.000000</td>\n",
       "      <td>2006.000000</td>\n",
       "      <td>10.460271</td>\n",
       "    </tr>\n",
       "    <tr>\n",
       "      <th>25%</th>\n",
       "      <td>365.250000</td>\n",
       "      <td>20.000000</td>\n",
       "      <td>59.000000</td>\n",
       "      <td>7544.500000</td>\n",
       "      <td>5.000000</td>\n",
       "      <td>5.000000</td>\n",
       "      <td>1954.000000</td>\n",
       "      <td>1967.000000</td>\n",
       "      <td>0.000000</td>\n",
       "      <td>0.000000</td>\n",
       "      <td>...</td>\n",
       "      <td>0.000000</td>\n",
       "      <td>0.000000</td>\n",
       "      <td>0.000000</td>\n",
       "      <td>0.000000</td>\n",
       "      <td>0.000000</td>\n",
       "      <td>0.000000</td>\n",
       "      <td>0.000000</td>\n",
       "      <td>5.000000</td>\n",
       "      <td>2007.000000</td>\n",
       "      <td>11.774720</td>\n",
       "    </tr>\n",
       "    <tr>\n",
       "      <th>50%</th>\n",
       "      <td>730.500000</td>\n",
       "      <td>50.000000</td>\n",
       "      <td>69.000000</td>\n",
       "      <td>9475.000000</td>\n",
       "      <td>6.000000</td>\n",
       "      <td>5.000000</td>\n",
       "      <td>1972.500000</td>\n",
       "      <td>1994.000000</td>\n",
       "      <td>0.000000</td>\n",
       "      <td>382.000000</td>\n",
       "      <td>...</td>\n",
       "      <td>0.000000</td>\n",
       "      <td>24.500000</td>\n",
       "      <td>0.000000</td>\n",
       "      <td>0.000000</td>\n",
       "      <td>0.000000</td>\n",
       "      <td>0.000000</td>\n",
       "      <td>0.000000</td>\n",
       "      <td>6.000000</td>\n",
       "      <td>2008.000000</td>\n",
       "      <td>12.001512</td>\n",
       "    </tr>\n",
       "    <tr>\n",
       "      <th>75%</th>\n",
       "      <td>1094.750000</td>\n",
       "      <td>70.000000</td>\n",
       "      <td>80.000000</td>\n",
       "      <td>11600.000000</td>\n",
       "      <td>7.000000</td>\n",
       "      <td>6.000000</td>\n",
       "      <td>2000.000000</td>\n",
       "      <td>2004.000000</td>\n",
       "      <td>164.750000</td>\n",
       "      <td>711.000000</td>\n",
       "      <td>...</td>\n",
       "      <td>168.000000</td>\n",
       "      <td>68.000000</td>\n",
       "      <td>0.000000</td>\n",
       "      <td>0.000000</td>\n",
       "      <td>0.000000</td>\n",
       "      <td>0.000000</td>\n",
       "      <td>0.000000</td>\n",
       "      <td>8.000000</td>\n",
       "      <td>2009.000000</td>\n",
       "      <td>12.273736</td>\n",
       "    </tr>\n",
       "    <tr>\n",
       "      <th>max</th>\n",
       "      <td>1460.000000</td>\n",
       "      <td>190.000000</td>\n",
       "      <td>313.000000</td>\n",
       "      <td>215245.000000</td>\n",
       "      <td>10.000000</td>\n",
       "      <td>9.000000</td>\n",
       "      <td>2010.000000</td>\n",
       "      <td>2010.000000</td>\n",
       "      <td>1600.000000</td>\n",
       "      <td>2188.000000</td>\n",
       "      <td>...</td>\n",
       "      <td>857.000000</td>\n",
       "      <td>547.000000</td>\n",
       "      <td>552.000000</td>\n",
       "      <td>508.000000</td>\n",
       "      <td>480.000000</td>\n",
       "      <td>738.000000</td>\n",
       "      <td>15500.000000</td>\n",
       "      <td>12.000000</td>\n",
       "      <td>2010.000000</td>\n",
       "      <td>13.534474</td>\n",
       "    </tr>\n",
       "  </tbody>\n",
       "</table>\n",
       "<p>8 rows × 38 columns</p>\n",
       "</div>"
      ],
      "text/plain": [
       "                Id   MSSubClass  LotFrontage        LotArea  OverallQual  \\\n",
       "count  1458.000000  1458.000000  1199.000000    1458.000000  1458.000000   \n",
       "mean    730.251715    56.893004    69.797331   10459.936900     6.093964   \n",
       "std     421.601532    42.329437    23.203458    9859.198156     1.376369   \n",
       "min       1.000000    20.000000    21.000000    1300.000000     1.000000   \n",
       "25%     365.250000    20.000000    59.000000    7544.500000     5.000000   \n",
       "50%     730.500000    50.000000    69.000000    9475.000000     6.000000   \n",
       "75%    1094.750000    70.000000    80.000000   11600.000000     7.000000   \n",
       "max    1460.000000   190.000000   313.000000  215245.000000    10.000000   \n",
       "\n",
       "       OverallCond    YearBuilt  YearRemodAdd   MasVnrArea   BsmtFinSF1  \\\n",
       "count  1458.000000  1458.000000   1458.000000  1450.000000  1458.000000   \n",
       "mean      5.576132  1971.218107   1984.834019   102.753793   438.827160   \n",
       "std       1.113359    30.193754     20.641760   179.442156   432.969094   \n",
       "min       1.000000  1872.000000   1950.000000     0.000000     0.000000   \n",
       "25%       5.000000  1954.000000   1967.000000     0.000000     0.000000   \n",
       "50%       5.000000  1972.500000   1994.000000     0.000000   382.000000   \n",
       "75%       6.000000  2000.000000   2004.000000   164.750000   711.000000   \n",
       "max       9.000000  2010.000000   2010.000000  1600.000000  2188.000000   \n",
       "\n",
       "          ...        WoodDeckSF  OpenPorchSF  EnclosedPorch    3SsnPorch  \\\n",
       "count     ...       1458.000000  1458.000000    1458.000000  1458.000000   \n",
       "mean      ...         94.084362    46.245542      21.984225     3.414266   \n",
       "std       ...        125.350021    65.312932      61.155666    29.337173   \n",
       "min       ...          0.000000     0.000000       0.000000     0.000000   \n",
       "25%       ...          0.000000     0.000000       0.000000     0.000000   \n",
       "50%       ...          0.000000    24.500000       0.000000     0.000000   \n",
       "75%       ...        168.000000    68.000000       0.000000     0.000000   \n",
       "max       ...        857.000000   547.000000     552.000000   508.000000   \n",
       "\n",
       "       ScreenPorch     PoolArea       MiscVal       MoSold       YrSold  \\\n",
       "count  1458.000000  1458.000000   1458.000000  1458.000000  1458.000000   \n",
       "mean     15.081619     2.433471     43.548697     6.323045  2007.816187   \n",
       "std      55.792877    38.209947    496.460799     2.700167     1.328826   \n",
       "min       0.000000     0.000000      0.000000     1.000000  2006.000000   \n",
       "25%       0.000000     0.000000      0.000000     5.000000  2007.000000   \n",
       "50%       0.000000     0.000000      0.000000     6.000000  2008.000000   \n",
       "75%       0.000000     0.000000      0.000000     8.000000  2009.000000   \n",
       "max     480.000000   738.000000  15500.000000    12.000000  2010.000000   \n",
       "\n",
       "         SalePrice  \n",
       "count  1458.000000  \n",
       "mean     12.024015  \n",
       "std       0.399713  \n",
       "min      10.460271  \n",
       "25%      11.774720  \n",
       "50%      12.001512  \n",
       "75%      12.273736  \n",
       "max      13.534474  \n",
       "\n",
       "[8 rows x 38 columns]"
      ]
     },
     "execution_count": 17,
     "metadata": {},
     "output_type": "execute_result"
    }
   ],
   "source": [
    "train.describe() # 基本統計量"
   ]
  },
  {
   "cell_type": "code",
   "execution_count": 18,
   "metadata": {},
   "outputs": [
    {
     "name": "stdout",
     "output_type": "stream",
     "text": [
      "<class 'pandas.core.frame.DataFrame'>\n",
      "Int64Index: 1458 entries, 0 to 1459\n",
      "Data columns (total 81 columns):\n",
      "Id               1458 non-null int64\n",
      "MSSubClass       1458 non-null int64\n",
      "MSZoning         1458 non-null object\n",
      "LotFrontage      1199 non-null float64\n",
      "LotArea          1458 non-null int64\n",
      "Street           1458 non-null object\n",
      "Alley            91 non-null object\n",
      "LotShape         1458 non-null object\n",
      "LandContour      1458 non-null object\n",
      "Utilities        1458 non-null object\n",
      "LotConfig        1458 non-null object\n",
      "LandSlope        1458 non-null object\n",
      "Neighborhood     1458 non-null object\n",
      "Condition1       1458 non-null object\n",
      "Condition2       1458 non-null object\n",
      "BldgType         1458 non-null object\n",
      "HouseStyle       1458 non-null object\n",
      "OverallQual      1458 non-null int64\n",
      "OverallCond      1458 non-null int64\n",
      "YearBuilt        1458 non-null int64\n",
      "YearRemodAdd     1458 non-null int64\n",
      "RoofStyle        1458 non-null object\n",
      "RoofMatl         1458 non-null object\n",
      "Exterior1st      1458 non-null object\n",
      "Exterior2nd      1458 non-null object\n",
      "MasVnrType       1450 non-null object\n",
      "MasVnrArea       1450 non-null float64\n",
      "ExterQual        1458 non-null object\n",
      "ExterCond        1458 non-null object\n",
      "Foundation       1458 non-null object\n",
      "BsmtQual         1421 non-null object\n",
      "BsmtCond         1421 non-null object\n",
      "BsmtExposure     1420 non-null object\n",
      "BsmtFinType1     1421 non-null object\n",
      "BsmtFinSF1       1458 non-null int64\n",
      "BsmtFinType2     1420 non-null object\n",
      "BsmtFinSF2       1458 non-null int64\n",
      "BsmtUnfSF        1458 non-null int64\n",
      "TotalBsmtSF      1458 non-null int64\n",
      "Heating          1458 non-null object\n",
      "HeatingQC        1458 non-null object\n",
      "CentralAir       1458 non-null object\n",
      "Electrical       1457 non-null object\n",
      "1stFlrSF         1458 non-null int64\n",
      "2ndFlrSF         1458 non-null int64\n",
      "LowQualFinSF     1458 non-null int64\n",
      "GrLivArea        1458 non-null int64\n",
      "BsmtFullBath     1458 non-null int64\n",
      "BsmtHalfBath     1458 non-null int64\n",
      "FullBath         1458 non-null int64\n",
      "HalfBath         1458 non-null int64\n",
      "BedroomAbvGr     1458 non-null int64\n",
      "KitchenAbvGr     1458 non-null int64\n",
      "KitchenQual      1458 non-null object\n",
      "TotRmsAbvGrd     1458 non-null int64\n",
      "Functional       1458 non-null object\n",
      "Fireplaces       1458 non-null int64\n",
      "FireplaceQu      768 non-null object\n",
      "GarageType       1377 non-null object\n",
      "GarageYrBlt      1377 non-null float64\n",
      "GarageFinish     1377 non-null object\n",
      "GarageCars       1458 non-null int64\n",
      "GarageArea       1458 non-null int64\n",
      "GarageQual       1377 non-null object\n",
      "GarageCond       1377 non-null object\n",
      "PavedDrive       1458 non-null object\n",
      "WoodDeckSF       1458 non-null int64\n",
      "OpenPorchSF      1458 non-null int64\n",
      "EnclosedPorch    1458 non-null int64\n",
      "3SsnPorch        1458 non-null int64\n",
      "ScreenPorch      1458 non-null int64\n",
      "PoolArea         1458 non-null int64\n",
      "PoolQC           6 non-null object\n",
      "Fence            281 non-null object\n",
      "MiscFeature      54 non-null object\n",
      "MiscVal          1458 non-null int64\n",
      "MoSold           1458 non-null int64\n",
      "YrSold           1458 non-null int64\n",
      "SaleType         1458 non-null object\n",
      "SaleCondition    1458 non-null object\n",
      "SalePrice        1458 non-null float64\n",
      "dtypes: float64(4), int64(34), object(43)\n",
      "memory usage: 974.0+ KB\n"
     ]
    }
   ],
   "source": [
    "train.info() # データの型の確認"
   ]
  },
  {
   "cell_type": "markdown",
   "metadata": {},
   "source": [
    "# 各列（カラム）に欠損値があるか確認"
   ]
  },
  {
   "cell_type": "code",
   "execution_count": 19,
   "metadata": {},
   "outputs": [
    {
     "data": {
      "text/plain": [
       "Id               False\n",
       "MSSubClass       False\n",
       "MSZoning         False\n",
       "LotFrontage       True\n",
       "LotArea          False\n",
       "Street           False\n",
       "Alley             True\n",
       "LotShape         False\n",
       "LandContour      False\n",
       "Utilities        False\n",
       "LotConfig        False\n",
       "LandSlope        False\n",
       "Neighborhood     False\n",
       "Condition1       False\n",
       "Condition2       False\n",
       "BldgType         False\n",
       "HouseStyle       False\n",
       "OverallQual      False\n",
       "OverallCond      False\n",
       "YearBuilt        False\n",
       "YearRemodAdd     False\n",
       "RoofStyle        False\n",
       "RoofMatl         False\n",
       "Exterior1st      False\n",
       "Exterior2nd      False\n",
       "MasVnrType        True\n",
       "MasVnrArea        True\n",
       "ExterQual        False\n",
       "ExterCond        False\n",
       "Foundation       False\n",
       "                 ...  \n",
       "BedroomAbvGr     False\n",
       "KitchenAbvGr     False\n",
       "KitchenQual      False\n",
       "TotRmsAbvGrd     False\n",
       "Functional       False\n",
       "Fireplaces       False\n",
       "FireplaceQu       True\n",
       "GarageType        True\n",
       "GarageYrBlt       True\n",
       "GarageFinish      True\n",
       "GarageCars       False\n",
       "GarageArea       False\n",
       "GarageQual        True\n",
       "GarageCond        True\n",
       "PavedDrive       False\n",
       "WoodDeckSF       False\n",
       "OpenPorchSF      False\n",
       "EnclosedPorch    False\n",
       "3SsnPorch        False\n",
       "ScreenPorch      False\n",
       "PoolArea         False\n",
       "PoolQC            True\n",
       "Fence             True\n",
       "MiscFeature       True\n",
       "MiscVal          False\n",
       "MoSold           False\n",
       "YrSold           False\n",
       "SaleType         False\n",
       "SaleCondition    False\n",
       "SalePrice        False\n",
       "Length: 81, dtype: bool"
      ]
     },
     "execution_count": 19,
     "metadata": {},
     "output_type": "execute_result"
    }
   ],
   "source": [
    "train.isnull().any()"
   ]
  },
  {
   "cell_type": "markdown",
   "metadata": {},
   "source": [
    "# 各列に欠損値が幾つあるか確認"
   ]
  },
  {
   "cell_type": "code",
   "execution_count": 20,
   "metadata": {},
   "outputs": [
    {
     "data": {
      "text/plain": [
       "PoolQC          1452\n",
       "MiscFeature     1404\n",
       "Alley           1367\n",
       "Fence           1177\n",
       "FireplaceQu      690\n",
       "LotFrontage      259\n",
       "GarageYrBlt       81\n",
       "GarageType        81\n",
       "GarageFinish      81\n",
       "GarageQual        81\n",
       "GarageCond        81\n",
       "BsmtFinType2      38\n",
       "BsmtExposure      38\n",
       "BsmtFinType1      37\n",
       "BsmtCond          37\n",
       "BsmtQual          37\n",
       "MasVnrArea         8\n",
       "MasVnrType         8\n",
       "Electrical         1\n",
       "dtype: int64"
      ]
     },
     "execution_count": 20,
     "metadata": {},
     "output_type": "execute_result"
    }
   ],
   "source": [
    "train.isnull().sum()[train.isnull().sum() > 0].sort_values(ascending = False)"
   ]
  },
  {
   "cell_type": "code",
   "execution_count": 21,
   "metadata": {},
   "outputs": [
    {
     "data": {
      "text/plain": [
       "PoolQC          1456\n",
       "MiscFeature     1408\n",
       "Alley           1352\n",
       "Fence           1169\n",
       "FireplaceQu      730\n",
       "LotFrontage      227\n",
       "GarageYrBlt       78\n",
       "GarageCond        78\n",
       "GarageQual        78\n",
       "GarageFinish      78\n",
       "GarageType        76\n",
       "BsmtCond          45\n",
       "BsmtExposure      44\n",
       "BsmtQual          44\n",
       "BsmtFinType1      42\n",
       "BsmtFinType2      42\n",
       "MasVnrType        16\n",
       "MasVnrArea        15\n",
       "MSZoning           4\n",
       "BsmtFullBath       2\n",
       "BsmtHalfBath       2\n",
       "Utilities          2\n",
       "Functional         2\n",
       "Exterior2nd        1\n",
       "Exterior1st        1\n",
       "SaleType           1\n",
       "BsmtFinSF1         1\n",
       "BsmtFinSF2         1\n",
       "BsmtUnfSF          1\n",
       "KitchenQual        1\n",
       "GarageCars         1\n",
       "GarageArea         1\n",
       "TotalBsmtSF        1\n",
       "dtype: int64"
      ]
     },
     "execution_count": 21,
     "metadata": {},
     "output_type": "execute_result"
    }
   ],
   "source": [
    "test.isnull().sum()[test.isnull().sum() > 0].sort_values(ascending = False)"
   ]
  },
  {
   "cell_type": "markdown",
   "metadata": {},
   "source": [
    "# 欠損を含むcolumnのデータの型を確認"
   ]
  },
  {
   "cell_type": "code",
   "execution_count": 22,
   "metadata": {
    "scrolled": true
   },
   "outputs": [
    {
     "data": {
      "text/plain": [
       "LotFrontage     float64\n",
       "MasVnrArea      float64\n",
       "GarageYrBlt     float64\n",
       "PoolQC           object\n",
       "GarageCond       object\n",
       "GarageQual       object\n",
       "GarageFinish     object\n",
       "GarageType       object\n",
       "FireplaceQu      object\n",
       "Electrical       object\n",
       "BsmtFinType2     object\n",
       "BsmtFinType1     object\n",
       "BsmtExposure     object\n",
       "BsmtCond         object\n",
       "BsmtQual         object\n",
       "MasVnrType       object\n",
       "Alley            object\n",
       "Fence            object\n",
       "MiscFeature      object\n",
       "dtype: object"
      ]
     },
     "execution_count": 22,
     "metadata": {},
     "output_type": "execute_result"
    }
   ],
   "source": [
    "na_col_list = train.isnull().sum()[train.isnull().sum()>0].index.tolist() # 欠損を含むcolumuをリスト化\n",
    "train[na_col_list].dtypes.sort_values() # データ型"
   ]
  },
  {
   "cell_type": "code",
   "execution_count": 23,
   "metadata": {},
   "outputs": [
    {
     "data": {
      "text/plain": [
       "TotalBsmtSF     float64\n",
       "BsmtUnfSF       float64\n",
       "BsmtFinSF2      float64\n",
       "BsmtFinSF1      float64\n",
       "GarageYrBlt     float64\n",
       "BsmtFullBath    float64\n",
       "GarageCars      float64\n",
       "BsmtHalfBath    float64\n",
       "GarageArea      float64\n",
       "LotFrontage     float64\n",
       "MasVnrArea      float64\n",
       "GarageQual       object\n",
       "GarageCond       object\n",
       "GarageType       object\n",
       "PoolQC           object\n",
       "FireplaceQu      object\n",
       "Fence            object\n",
       "Functional       object\n",
       "GarageFinish     object\n",
       "MSZoning         object\n",
       "MiscFeature      object\n",
       "BsmtFinType2     object\n",
       "BsmtFinType1     object\n",
       "BsmtExposure     object\n",
       "BsmtCond         object\n",
       "BsmtQual         object\n",
       "MasVnrType       object\n",
       "Exterior2nd      object\n",
       "Exterior1st      object\n",
       "Utilities        object\n",
       "Alley            object\n",
       "KitchenQual      object\n",
       "SaleType         object\n",
       "dtype: object"
      ]
     },
     "execution_count": 23,
     "metadata": {},
     "output_type": "execute_result"
    }
   ],
   "source": [
    "na_col_list = test.isnull().sum()[test.isnull().sum()>0].index.tolist() # 欠損を含むcolumuをリスト化\n",
    "test[na_col_list].dtypes.sort_values() # データ型"
   ]
  },
  {
   "cell_type": "markdown",
   "metadata": {},
   "source": [
    "# データ型に応じて欠損値を補完"
   ]
  },
  {
   "cell_type": "markdown",
   "metadata": {},
   "source": [
    "float64で欠損している場合は０,objectで欠損している場合はNanを代入"
   ]
  },
  {
   "cell_type": "code",
   "execution_count": 24,
   "metadata": {
    "collapsed": true
   },
   "outputs": [],
   "source": [
    "na_float_cols = train[na_col_list].dtypes[train[na_col_list].dtypes == \"float64\"].index.tolist()"
   ]
  },
  {
   "cell_type": "code",
   "execution_count": 25,
   "metadata": {
    "collapsed": true
   },
   "outputs": [],
   "source": [
    "na_obj_cols =train[na_col_list].dtypes[train[na_col_list].dtypes == \"object\"].index.tolist()"
   ]
  },
  {
   "cell_type": "code",
   "execution_count": 26,
   "metadata": {
    "collapsed": true
   },
   "outputs": [],
   "source": [
    "for na_float_col in na_float_cols:\n",
    "    train.loc[train[na_float_col].isnull(),na_float_col] = 0.0"
   ]
  },
  {
   "cell_type": "code",
   "execution_count": 27,
   "metadata": {
    "collapsed": true
   },
   "outputs": [],
   "source": [
    "for na_obj_col in na_obj_cols:\n",
    "    train.loc[train[na_obj_col].isnull(),na_obj_col] = \"Nan\""
   ]
  },
  {
   "cell_type": "markdown",
   "metadata": {},
   "source": [
    "# データの欠損状況"
   ]
  },
  {
   "cell_type": "code",
   "execution_count": 28,
   "metadata": {
    "collapsed": true
   },
   "outputs": [],
   "source": [
    "na_float_cols = test[na_col_list].dtypes[test[na_col_list].dtypes == \"float64\"].index.tolist()"
   ]
  },
  {
   "cell_type": "code",
   "execution_count": 29,
   "metadata": {
    "collapsed": true
   },
   "outputs": [],
   "source": [
    "na_obj_cols =test[na_col_list].dtypes[test[na_col_list].dtypes == \"object\"].index.tolist()"
   ]
  },
  {
   "cell_type": "code",
   "execution_count": 30,
   "metadata": {
    "collapsed": true
   },
   "outputs": [],
   "source": [
    "for na_float_col in na_float_cols:\n",
    "    test.loc[test[na_float_col].isnull(),na_float_col] = 0.0"
   ]
  },
  {
   "cell_type": "code",
   "execution_count": 31,
   "metadata": {
    "collapsed": true
   },
   "outputs": [],
   "source": [
    "for na_obj_col in na_obj_cols:\n",
    "   test.loc[test[na_obj_col].isnull(),na_obj_col] = \"Nan\""
   ]
  },
  {
   "cell_type": "code",
   "execution_count": 32,
   "metadata": {},
   "outputs": [
    {
     "data": {
      "text/plain": [
       "Electrical    1\n",
       "dtype: int64"
      ]
     },
     "execution_count": 32,
     "metadata": {},
     "output_type": "execute_result"
    }
   ],
   "source": [
    "train.isnull().sum()[train.isnull().sum()>0].sort_values(ascending=False)\n",
    "# trainの欠損値が補完されている"
   ]
  },
  {
   "cell_type": "code",
   "execution_count": 33,
   "metadata": {},
   "outputs": [
    {
     "data": {
      "text/plain": [
       "Series([], dtype: int64)"
      ]
     },
     "execution_count": 33,
     "metadata": {},
     "output_type": "execute_result"
    }
   ],
   "source": [
    "test.isnull().sum()[test.isnull().sum()>0].sort_values(ascending=False)\n",
    "# testの欠損値が補完されている"
   ]
  },
  {
   "cell_type": "markdown",
   "metadata": {},
   "source": [
    "# 型の変換"
   ]
  },
  {
   "cell_type": "code",
   "execution_count": 34,
   "metadata": {
    "collapsed": true
   },
   "outputs": [],
   "source": [
    "test['TotalBsmtSF'] = test['TotalBsmtSF'] .astype(np.int)\n",
    "test['BsmtUnfSF'] = test['BsmtUnfSF'].astype(np.int)\n",
    "test['BsmtFinSF2'] = test['BsmtFinSF2'].astype(np.int)\n",
    "test['BsmtFinSF1'] = test['BsmtFinSF1'].astype(np.int)\n",
    "train['GarageYrBlt'] =train['GarageYrBlt'].astype(np.int)#all_data[\"BsmtFullBath\"] = all_data[\"BsmtFullBath\"].astype(np.int)\n",
    "test['GarageCars'] = test['GarageCars'].astype(np.int)\n",
    "test['BsmtHalfBath'] =test['BsmtHalfBath'].astype(np.int)\n",
    "test['GarageArea'] = test['GarageArea'].astype(np.int)#all_data[\"LotFrontage \"] = all_data[\"LotFrontage\"].astype(np.int)\n",
    "train['MasVnrArea'] = train['MasVnrArea'].astype(np.int)\n",
    "test['MasVnrArea'] = test['MasVnrArea'].astype(np.int)\n",
    "train['LotFrontage'] = train['LotFrontage'].astype(np.int)\n",
    "test['LotFrontage'] = test['LotFrontage'].astype(np.int)\n",
    "test['BsmtHalfBath'] = test['BsmtHalfBath'].astype(np.int)\n",
    "test['BsmtFullBath'] = test['BsmtFullBath'].astype(np.int)"
   ]
  },
  {
   "cell_type": "code",
   "execution_count": 35,
   "metadata": {},
   "outputs": [
    {
     "name": "stdout",
     "output_type": "stream",
     "text": [
      "<class 'pandas.core.frame.DataFrame'>\n",
      "Int64Index: 1458 entries, 0 to 1459\n",
      "Data columns (total 81 columns):\n",
      "Id               1458 non-null int64\n",
      "MSSubClass       1458 non-null int64\n",
      "MSZoning         1458 non-null object\n",
      "LotFrontage      1458 non-null int32\n",
      "LotArea          1458 non-null int64\n",
      "Street           1458 non-null object\n",
      "Alley            1458 non-null object\n",
      "LotShape         1458 non-null object\n",
      "LandContour      1458 non-null object\n",
      "Utilities        1458 non-null object\n",
      "LotConfig        1458 non-null object\n",
      "LandSlope        1458 non-null object\n",
      "Neighborhood     1458 non-null object\n",
      "Condition1       1458 non-null object\n",
      "Condition2       1458 non-null object\n",
      "BldgType         1458 non-null object\n",
      "HouseStyle       1458 non-null object\n",
      "OverallQual      1458 non-null int64\n",
      "OverallCond      1458 non-null int64\n",
      "YearBuilt        1458 non-null int64\n",
      "YearRemodAdd     1458 non-null int64\n",
      "RoofStyle        1458 non-null object\n",
      "RoofMatl         1458 non-null object\n",
      "Exterior1st      1458 non-null object\n",
      "Exterior2nd      1458 non-null object\n",
      "MasVnrType       1458 non-null object\n",
      "MasVnrArea       1458 non-null int32\n",
      "ExterQual        1458 non-null object\n",
      "ExterCond        1458 non-null object\n",
      "Foundation       1458 non-null object\n",
      "BsmtQual         1458 non-null object\n",
      "BsmtCond         1458 non-null object\n",
      "BsmtExposure     1458 non-null object\n",
      "BsmtFinType1     1458 non-null object\n",
      "BsmtFinSF1       1458 non-null int64\n",
      "BsmtFinType2     1458 non-null object\n",
      "BsmtFinSF2       1458 non-null int64\n",
      "BsmtUnfSF        1458 non-null int64\n",
      "TotalBsmtSF      1458 non-null int64\n",
      "Heating          1458 non-null object\n",
      "HeatingQC        1458 non-null object\n",
      "CentralAir       1458 non-null object\n",
      "Electrical       1457 non-null object\n",
      "1stFlrSF         1458 non-null int64\n",
      "2ndFlrSF         1458 non-null int64\n",
      "LowQualFinSF     1458 non-null int64\n",
      "GrLivArea        1458 non-null int64\n",
      "BsmtFullBath     1458 non-null int64\n",
      "BsmtHalfBath     1458 non-null int64\n",
      "FullBath         1458 non-null int64\n",
      "HalfBath         1458 non-null int64\n",
      "BedroomAbvGr     1458 non-null int64\n",
      "KitchenAbvGr     1458 non-null int64\n",
      "KitchenQual      1458 non-null object\n",
      "TotRmsAbvGrd     1458 non-null int64\n",
      "Functional       1458 non-null object\n",
      "Fireplaces       1458 non-null int64\n",
      "FireplaceQu      1458 non-null object\n",
      "GarageType       1458 non-null object\n",
      "GarageYrBlt      1458 non-null int32\n",
      "GarageFinish     1458 non-null object\n",
      "GarageCars       1458 non-null int64\n",
      "GarageArea       1458 non-null int64\n",
      "GarageQual       1458 non-null object\n",
      "GarageCond       1458 non-null object\n",
      "PavedDrive       1458 non-null object\n",
      "WoodDeckSF       1458 non-null int64\n",
      "OpenPorchSF      1458 non-null int64\n",
      "EnclosedPorch    1458 non-null int64\n",
      "3SsnPorch        1458 non-null int64\n",
      "ScreenPorch      1458 non-null int64\n",
      "PoolArea         1458 non-null int64\n",
      "PoolQC           1458 non-null object\n",
      "Fence            1458 non-null object\n",
      "MiscFeature      1458 non-null object\n",
      "MiscVal          1458 non-null int64\n",
      "MoSold           1458 non-null int64\n",
      "YrSold           1458 non-null int64\n",
      "SaleType         1458 non-null object\n",
      "SaleCondition    1458 non-null object\n",
      "SalePrice        1458 non-null float64\n",
      "dtypes: float64(1), int32(3), int64(34), object(43)\n",
      "memory usage: 956.9+ KB\n"
     ]
    }
   ],
   "source": [
    "train.info()"
   ]
  },
  {
   "cell_type": "code",
   "execution_count": 36,
   "metadata": {},
   "outputs": [
    {
     "name": "stdout",
     "output_type": "stream",
     "text": [
      "<class 'pandas.core.frame.DataFrame'>\n",
      "RangeIndex: 1459 entries, 0 to 1458\n",
      "Data columns (total 80 columns):\n",
      "Id               1459 non-null int64\n",
      "MSSubClass       1459 non-null int64\n",
      "MSZoning         1459 non-null object\n",
      "LotFrontage      1459 non-null int32\n",
      "LotArea          1459 non-null int64\n",
      "Street           1459 non-null object\n",
      "Alley            1459 non-null object\n",
      "LotShape         1459 non-null object\n",
      "LandContour      1459 non-null object\n",
      "Utilities        1459 non-null object\n",
      "LotConfig        1459 non-null object\n",
      "LandSlope        1459 non-null object\n",
      "Neighborhood     1459 non-null object\n",
      "Condition1       1459 non-null object\n",
      "Condition2       1459 non-null object\n",
      "BldgType         1459 non-null object\n",
      "HouseStyle       1459 non-null object\n",
      "OverallQual      1459 non-null int64\n",
      "OverallCond      1459 non-null int64\n",
      "YearBuilt        1459 non-null int64\n",
      "YearRemodAdd     1459 non-null int64\n",
      "RoofStyle        1459 non-null object\n",
      "RoofMatl         1459 non-null object\n",
      "Exterior1st      1459 non-null object\n",
      "Exterior2nd      1459 non-null object\n",
      "MasVnrType       1459 non-null object\n",
      "MasVnrArea       1459 non-null int32\n",
      "ExterQual        1459 non-null object\n",
      "ExterCond        1459 non-null object\n",
      "Foundation       1459 non-null object\n",
      "BsmtQual         1459 non-null object\n",
      "BsmtCond         1459 non-null object\n",
      "BsmtExposure     1459 non-null object\n",
      "BsmtFinType1     1459 non-null object\n",
      "BsmtFinSF1       1459 non-null int32\n",
      "BsmtFinType2     1459 non-null object\n",
      "BsmtFinSF2       1459 non-null int32\n",
      "BsmtUnfSF        1459 non-null int32\n",
      "TotalBsmtSF      1459 non-null int32\n",
      "Heating          1459 non-null object\n",
      "HeatingQC        1459 non-null object\n",
      "CentralAir       1459 non-null object\n",
      "Electrical       1459 non-null object\n",
      "1stFlrSF         1459 non-null int64\n",
      "2ndFlrSF         1459 non-null int64\n",
      "LowQualFinSF     1459 non-null int64\n",
      "GrLivArea        1459 non-null int64\n",
      "BsmtFullBath     1459 non-null int32\n",
      "BsmtHalfBath     1459 non-null int32\n",
      "FullBath         1459 non-null int64\n",
      "HalfBath         1459 non-null int64\n",
      "BedroomAbvGr     1459 non-null int64\n",
      "KitchenAbvGr     1459 non-null int64\n",
      "KitchenQual      1459 non-null object\n",
      "TotRmsAbvGrd     1459 non-null int64\n",
      "Functional       1459 non-null object\n",
      "Fireplaces       1459 non-null int64\n",
      "FireplaceQu      1459 non-null object\n",
      "GarageType       1459 non-null object\n",
      "GarageYrBlt      1459 non-null float64\n",
      "GarageFinish     1459 non-null object\n",
      "GarageCars       1459 non-null int32\n",
      "GarageArea       1459 non-null int32\n",
      "GarageQual       1459 non-null object\n",
      "GarageCond       1459 non-null object\n",
      "PavedDrive       1459 non-null object\n",
      "WoodDeckSF       1459 non-null int64\n",
      "OpenPorchSF      1459 non-null int64\n",
      "EnclosedPorch    1459 non-null int64\n",
      "3SsnPorch        1459 non-null int64\n",
      "ScreenPorch      1459 non-null int64\n",
      "PoolArea         1459 non-null int64\n",
      "PoolQC           1459 non-null object\n",
      "Fence            1459 non-null object\n",
      "MiscFeature      1459 non-null object\n",
      "MiscVal          1459 non-null int64\n",
      "MoSold           1459 non-null int64\n",
      "YrSold           1459 non-null int64\n",
      "SaleType         1459 non-null object\n",
      "SaleCondition    1459 non-null object\n",
      "dtypes: float64(1), int32(10), int64(26), object(43)\n",
      "memory usage: 855.0+ KB\n"
     ]
    }
   ],
   "source": [
    "test.info()"
   ]
  },
  {
   "cell_type": "markdown",
   "metadata": {},
   "source": [
    "# Label Encoder を使う"
   ]
  },
  {
   "cell_type": "code",
   "execution_count": 37,
   "metadata": {
    "collapsed": true
   },
   "outputs": [],
   "source": [
    "# string label to categorical values\n",
    "from sklearn.preprocessing import LabelEncoder\n",
    "\n",
    "for i in range(train.shape[1]):\n",
    "    if train.iloc[:,i].dtypes == object:\n",
    "        lbl = LabelEncoder()\n",
    "        lbl.fit(list(train.iloc[:,i].values) + list(test.iloc[:,i].values))\n",
    "        train.iloc[:,i] = lbl.transform(list(train.iloc[:,i].values))\n",
    "        test.iloc[:,i] = lbl.transform(list(test.iloc[:,i].values))\n",
    "# https://qiita.com/katsu1110/items/a1c3185fec39e5629bcb"
   ]
  },
  {
   "cell_type": "code",
   "execution_count": 38,
   "metadata": {},
   "outputs": [
    {
     "data": {
      "text/html": [
       "<div>\n",
       "<style>\n",
       "    .dataframe thead tr:only-child th {\n",
       "        text-align: right;\n",
       "    }\n",
       "\n",
       "    .dataframe thead th {\n",
       "        text-align: left;\n",
       "    }\n",
       "\n",
       "    .dataframe tbody tr th {\n",
       "        vertical-align: top;\n",
       "    }\n",
       "</style>\n",
       "<table border=\"1\" class=\"dataframe\">\n",
       "  <thead>\n",
       "    <tr style=\"text-align: right;\">\n",
       "      <th></th>\n",
       "      <th>Id</th>\n",
       "      <th>MSSubClass</th>\n",
       "      <th>MSZoning</th>\n",
       "      <th>LotFrontage</th>\n",
       "      <th>LotArea</th>\n",
       "      <th>Street</th>\n",
       "      <th>Alley</th>\n",
       "      <th>LotShape</th>\n",
       "      <th>LandContour</th>\n",
       "      <th>Utilities</th>\n",
       "      <th>...</th>\n",
       "      <th>PoolArea</th>\n",
       "      <th>PoolQC</th>\n",
       "      <th>Fence</th>\n",
       "      <th>MiscFeature</th>\n",
       "      <th>MiscVal</th>\n",
       "      <th>MoSold</th>\n",
       "      <th>YrSold</th>\n",
       "      <th>SaleType</th>\n",
       "      <th>SaleCondition</th>\n",
       "      <th>SalePrice</th>\n",
       "    </tr>\n",
       "  </thead>\n",
       "  <tbody>\n",
       "    <tr>\n",
       "      <th>0</th>\n",
       "      <td>1</td>\n",
       "      <td>60</td>\n",
       "      <td>4</td>\n",
       "      <td>65</td>\n",
       "      <td>8450</td>\n",
       "      <td>1</td>\n",
       "      <td>1</td>\n",
       "      <td>3</td>\n",
       "      <td>3</td>\n",
       "      <td>0</td>\n",
       "      <td>...</td>\n",
       "      <td>0</td>\n",
       "      <td>3</td>\n",
       "      <td>4</td>\n",
       "      <td>1</td>\n",
       "      <td>0</td>\n",
       "      <td>2</td>\n",
       "      <td>2008</td>\n",
       "      <td>9</td>\n",
       "      <td>4</td>\n",
       "      <td>12.247699</td>\n",
       "    </tr>\n",
       "    <tr>\n",
       "      <th>1</th>\n",
       "      <td>2</td>\n",
       "      <td>20</td>\n",
       "      <td>4</td>\n",
       "      <td>80</td>\n",
       "      <td>9600</td>\n",
       "      <td>1</td>\n",
       "      <td>1</td>\n",
       "      <td>3</td>\n",
       "      <td>3</td>\n",
       "      <td>0</td>\n",
       "      <td>...</td>\n",
       "      <td>0</td>\n",
       "      <td>3</td>\n",
       "      <td>4</td>\n",
       "      <td>1</td>\n",
       "      <td>0</td>\n",
       "      <td>5</td>\n",
       "      <td>2007</td>\n",
       "      <td>9</td>\n",
       "      <td>4</td>\n",
       "      <td>12.109016</td>\n",
       "    </tr>\n",
       "    <tr>\n",
       "      <th>2</th>\n",
       "      <td>3</td>\n",
       "      <td>60</td>\n",
       "      <td>4</td>\n",
       "      <td>68</td>\n",
       "      <td>11250</td>\n",
       "      <td>1</td>\n",
       "      <td>1</td>\n",
       "      <td>0</td>\n",
       "      <td>3</td>\n",
       "      <td>0</td>\n",
       "      <td>...</td>\n",
       "      <td>0</td>\n",
       "      <td>3</td>\n",
       "      <td>4</td>\n",
       "      <td>1</td>\n",
       "      <td>0</td>\n",
       "      <td>9</td>\n",
       "      <td>2008</td>\n",
       "      <td>9</td>\n",
       "      <td>4</td>\n",
       "      <td>12.317171</td>\n",
       "    </tr>\n",
       "    <tr>\n",
       "      <th>3</th>\n",
       "      <td>4</td>\n",
       "      <td>70</td>\n",
       "      <td>4</td>\n",
       "      <td>60</td>\n",
       "      <td>9550</td>\n",
       "      <td>1</td>\n",
       "      <td>1</td>\n",
       "      <td>0</td>\n",
       "      <td>3</td>\n",
       "      <td>0</td>\n",
       "      <td>...</td>\n",
       "      <td>0</td>\n",
       "      <td>3</td>\n",
       "      <td>4</td>\n",
       "      <td>1</td>\n",
       "      <td>0</td>\n",
       "      <td>2</td>\n",
       "      <td>2006</td>\n",
       "      <td>9</td>\n",
       "      <td>0</td>\n",
       "      <td>11.849405</td>\n",
       "    </tr>\n",
       "    <tr>\n",
       "      <th>4</th>\n",
       "      <td>5</td>\n",
       "      <td>60</td>\n",
       "      <td>4</td>\n",
       "      <td>84</td>\n",
       "      <td>14260</td>\n",
       "      <td>1</td>\n",
       "      <td>1</td>\n",
       "      <td>0</td>\n",
       "      <td>3</td>\n",
       "      <td>0</td>\n",
       "      <td>...</td>\n",
       "      <td>0</td>\n",
       "      <td>3</td>\n",
       "      <td>4</td>\n",
       "      <td>1</td>\n",
       "      <td>0</td>\n",
       "      <td>12</td>\n",
       "      <td>2008</td>\n",
       "      <td>9</td>\n",
       "      <td>4</td>\n",
       "      <td>12.429220</td>\n",
       "    </tr>\n",
       "  </tbody>\n",
       "</table>\n",
       "<p>5 rows × 81 columns</p>\n",
       "</div>"
      ],
      "text/plain": [
       "   Id  MSSubClass  MSZoning  LotFrontage  LotArea  Street  Alley  LotShape  \\\n",
       "0   1          60         4           65     8450       1      1         3   \n",
       "1   2          20         4           80     9600       1      1         3   \n",
       "2   3          60         4           68    11250       1      1         0   \n",
       "3   4          70         4           60     9550       1      1         0   \n",
       "4   5          60         4           84    14260       1      1         0   \n",
       "\n",
       "   LandContour  Utilities    ...      PoolArea  PoolQC  Fence  MiscFeature  \\\n",
       "0            3          0    ...             0       3      4            1   \n",
       "1            3          0    ...             0       3      4            1   \n",
       "2            3          0    ...             0       3      4            1   \n",
       "3            3          0    ...             0       3      4            1   \n",
       "4            3          0    ...             0       3      4            1   \n",
       "\n",
       "   MiscVal  MoSold  YrSold  SaleType  SaleCondition  SalePrice  \n",
       "0        0       2    2008         9              4  12.247699  \n",
       "1        0       5    2007         9              4  12.109016  \n",
       "2        0       9    2008         9              4  12.317171  \n",
       "3        0       2    2006         9              0  11.849405  \n",
       "4        0      12    2008         9              4  12.429220  \n",
       "\n",
       "[5 rows x 81 columns]"
      ]
     },
     "execution_count": 38,
     "metadata": {},
     "output_type": "execute_result"
    }
   ],
   "source": [
    "train.head()"
   ]
  },
  {
   "cell_type": "code",
   "execution_count": 39,
   "metadata": {},
   "outputs": [
    {
     "data": {
      "text/html": [
       "<div>\n",
       "<style>\n",
       "    .dataframe thead tr:only-child th {\n",
       "        text-align: right;\n",
       "    }\n",
       "\n",
       "    .dataframe thead th {\n",
       "        text-align: left;\n",
       "    }\n",
       "\n",
       "    .dataframe tbody tr th {\n",
       "        vertical-align: top;\n",
       "    }\n",
       "</style>\n",
       "<table border=\"1\" class=\"dataframe\">\n",
       "  <thead>\n",
       "    <tr style=\"text-align: right;\">\n",
       "      <th></th>\n",
       "      <th>Id</th>\n",
       "      <th>MSSubClass</th>\n",
       "      <th>MSZoning</th>\n",
       "      <th>LotFrontage</th>\n",
       "      <th>LotArea</th>\n",
       "      <th>Street</th>\n",
       "      <th>Alley</th>\n",
       "      <th>LotShape</th>\n",
       "      <th>LandContour</th>\n",
       "      <th>Utilities</th>\n",
       "      <th>...</th>\n",
       "      <th>ScreenPorch</th>\n",
       "      <th>PoolArea</th>\n",
       "      <th>PoolQC</th>\n",
       "      <th>Fence</th>\n",
       "      <th>MiscFeature</th>\n",
       "      <th>MiscVal</th>\n",
       "      <th>MoSold</th>\n",
       "      <th>YrSold</th>\n",
       "      <th>SaleType</th>\n",
       "      <th>SaleCondition</th>\n",
       "    </tr>\n",
       "  </thead>\n",
       "  <tbody>\n",
       "    <tr>\n",
       "      <th>0</th>\n",
       "      <td>1461</td>\n",
       "      <td>20</td>\n",
       "      <td>3</td>\n",
       "      <td>80</td>\n",
       "      <td>11622</td>\n",
       "      <td>1</td>\n",
       "      <td>1</td>\n",
       "      <td>3</td>\n",
       "      <td>3</td>\n",
       "      <td>0</td>\n",
       "      <td>...</td>\n",
       "      <td>120</td>\n",
       "      <td>0</td>\n",
       "      <td>3</td>\n",
       "      <td>2</td>\n",
       "      <td>1</td>\n",
       "      <td>0</td>\n",
       "      <td>6</td>\n",
       "      <td>2010</td>\n",
       "      <td>9</td>\n",
       "      <td>4</td>\n",
       "    </tr>\n",
       "    <tr>\n",
       "      <th>1</th>\n",
       "      <td>1462</td>\n",
       "      <td>20</td>\n",
       "      <td>4</td>\n",
       "      <td>81</td>\n",
       "      <td>14267</td>\n",
       "      <td>1</td>\n",
       "      <td>1</td>\n",
       "      <td>0</td>\n",
       "      <td>3</td>\n",
       "      <td>0</td>\n",
       "      <td>...</td>\n",
       "      <td>0</td>\n",
       "      <td>0</td>\n",
       "      <td>3</td>\n",
       "      <td>4</td>\n",
       "      <td>0</td>\n",
       "      <td>12500</td>\n",
       "      <td>6</td>\n",
       "      <td>2010</td>\n",
       "      <td>9</td>\n",
       "      <td>4</td>\n",
       "    </tr>\n",
       "    <tr>\n",
       "      <th>2</th>\n",
       "      <td>1463</td>\n",
       "      <td>60</td>\n",
       "      <td>4</td>\n",
       "      <td>74</td>\n",
       "      <td>13830</td>\n",
       "      <td>1</td>\n",
       "      <td>1</td>\n",
       "      <td>0</td>\n",
       "      <td>3</td>\n",
       "      <td>0</td>\n",
       "      <td>...</td>\n",
       "      <td>0</td>\n",
       "      <td>0</td>\n",
       "      <td>3</td>\n",
       "      <td>2</td>\n",
       "      <td>1</td>\n",
       "      <td>0</td>\n",
       "      <td>3</td>\n",
       "      <td>2010</td>\n",
       "      <td>9</td>\n",
       "      <td>4</td>\n",
       "    </tr>\n",
       "    <tr>\n",
       "      <th>3</th>\n",
       "      <td>1464</td>\n",
       "      <td>60</td>\n",
       "      <td>4</td>\n",
       "      <td>78</td>\n",
       "      <td>9978</td>\n",
       "      <td>1</td>\n",
       "      <td>1</td>\n",
       "      <td>0</td>\n",
       "      <td>3</td>\n",
       "      <td>0</td>\n",
       "      <td>...</td>\n",
       "      <td>0</td>\n",
       "      <td>0</td>\n",
       "      <td>3</td>\n",
       "      <td>4</td>\n",
       "      <td>1</td>\n",
       "      <td>0</td>\n",
       "      <td>6</td>\n",
       "      <td>2010</td>\n",
       "      <td>9</td>\n",
       "      <td>4</td>\n",
       "    </tr>\n",
       "    <tr>\n",
       "      <th>4</th>\n",
       "      <td>1465</td>\n",
       "      <td>120</td>\n",
       "      <td>4</td>\n",
       "      <td>43</td>\n",
       "      <td>5005</td>\n",
       "      <td>1</td>\n",
       "      <td>1</td>\n",
       "      <td>0</td>\n",
       "      <td>1</td>\n",
       "      <td>0</td>\n",
       "      <td>...</td>\n",
       "      <td>144</td>\n",
       "      <td>0</td>\n",
       "      <td>3</td>\n",
       "      <td>4</td>\n",
       "      <td>1</td>\n",
       "      <td>0</td>\n",
       "      <td>1</td>\n",
       "      <td>2010</td>\n",
       "      <td>9</td>\n",
       "      <td>4</td>\n",
       "    </tr>\n",
       "  </tbody>\n",
       "</table>\n",
       "<p>5 rows × 80 columns</p>\n",
       "</div>"
      ],
      "text/plain": [
       "     Id  MSSubClass  MSZoning  LotFrontage  LotArea  Street  Alley  LotShape  \\\n",
       "0  1461          20         3           80    11622       1      1         3   \n",
       "1  1462          20         4           81    14267       1      1         0   \n",
       "2  1463          60         4           74    13830       1      1         0   \n",
       "3  1464          60         4           78     9978       1      1         0   \n",
       "4  1465         120         4           43     5005       1      1         0   \n",
       "\n",
       "   LandContour  Utilities      ...        ScreenPorch  PoolArea  PoolQC  \\\n",
       "0            3          0      ...                120         0       3   \n",
       "1            3          0      ...                  0         0       3   \n",
       "2            3          0      ...                  0         0       3   \n",
       "3            3          0      ...                  0         0       3   \n",
       "4            1          0      ...                144         0       3   \n",
       "\n",
       "   Fence  MiscFeature  MiscVal  MoSold  YrSold  SaleType  SaleCondition  \n",
       "0      2            1        0       6    2010         9              4  \n",
       "1      4            0    12500       6    2010         9              4  \n",
       "2      2            1        0       3    2010         9              4  \n",
       "3      4            1        0       6    2010         9              4  \n",
       "4      4            1        0       1    2010         9              4  \n",
       "\n",
       "[5 rows x 80 columns]"
      ]
     },
     "execution_count": 39,
     "metadata": {},
     "output_type": "execute_result"
    }
   ],
   "source": [
    "test.head()"
   ]
  },
  {
   "cell_type": "markdown",
   "metadata": {},
   "source": [
    "# モデル作成"
   ]
  },
  {
   "cell_type": "code",
   "execution_count": 40,
   "metadata": {},
   "outputs": [
    {
     "name": "stderr",
     "output_type": "stream",
     "text": [
      "C:\\Users\\koike\\Anaconda3\\lib\\site-packages\\ipykernel_launcher.py:3: SettingWithCopyWarning: \n",
      "A value is trying to be set on a copy of a slice from a DataFrame\n",
      "\n",
      "See the caveats in the documentation: http://pandas.pydata.org/pandas-docs/stable/indexing.html#indexing-view-versus-copy\n",
      "  This is separate from the ipykernel package so we can avoid doing imports until\n",
      "C:\\Users\\koike\\Anaconda3\\lib\\site-packages\\ipykernel_launcher.py:4: SettingWithCopyWarning: \n",
      "A value is trying to be set on a copy of a slice from a DataFrame\n",
      "\n",
      "See the caveats in the documentation: http://pandas.pydata.org/pandas-docs/stable/indexing.html#indexing-view-versus-copy\n",
      "  after removing the cwd from sys.path.\n"
     ]
    },
    {
     "data": {
      "text/plain": [
       "0.82119731130481"
      ]
     },
     "execution_count": 40,
     "metadata": {},
     "output_type": "execute_result"
    }
   ],
   "source": [
    "X_train = train[:train.shape[0]]\n",
    "X_test = test[train.shape[0]:]\n",
    "X_train.drop('Id', axis = 1, inplace = True)\n",
    "X_test.drop('Id', axis = 1, inplace = True)\n",
    "y = train.SalePrice\n",
    "\n",
    "from sklearn.linear_model import Lasso\n",
    "from sklearn.model_selection import cross_val_score\n",
    "model_lasso = Lasso()\n",
    "scores = cross_val_score(model_lasso, X_train, y) # 交差検証で評価\n",
    "scores.mean()"
   ]
  },
  {
   "cell_type": "code",
   "execution_count": 41,
   "metadata": {
    "scrolled": true
   },
   "outputs": [
    {
     "name": "stderr",
     "output_type": "stream",
     "text": [
      "C:\\Users\\koike\\Anaconda3\\lib\\site-packages\\sklearn\\linear_model\\coordinate_descent.py:491: ConvergenceWarning: Objective did not converge. You might want to increase the number of iterations. Fitting data with very small alpha may cause precision problems.\n",
      "  ConvergenceWarning)\n",
      "C:\\Users\\koike\\Anaconda3\\lib\\site-packages\\sklearn\\linear_model\\coordinate_descent.py:491: ConvergenceWarning: Objective did not converge. You might want to increase the number of iterations. Fitting data with very small alpha may cause precision problems.\n",
      "  ConvergenceWarning)\n",
      "C:\\Users\\koike\\Anaconda3\\lib\\site-packages\\sklearn\\linear_model\\coordinate_descent.py:491: ConvergenceWarning: Objective did not converge. You might want to increase the number of iterations. Fitting data with very small alpha may cause precision problems.\n",
      "  ConvergenceWarning)\n",
      "C:\\Users\\koike\\Anaconda3\\lib\\site-packages\\sklearn\\linear_model\\coordinate_descent.py:491: ConvergenceWarning: Objective did not converge. You might want to increase the number of iterations. Fitting data with very small alpha may cause precision problems.\n",
      "  ConvergenceWarning)\n"
     ]
    },
    {
     "data": {
      "text/plain": [
       "0.9999142102554699"
      ]
     },
     "execution_count": 41,
     "metadata": {},
     "output_type": "execute_result"
    }
   ],
   "source": [
    "from sklearn.linear_model import LassoCV\n",
    "model_lasso = LassoCV(alphas = [1, 0.1, 0.001, 0.0005]).fit(X_train, y)\n",
    "scores = cross_val_score(model_lasso, X_train, y) # 交差検証で評価\n",
    "scores.mean()"
   ]
  },
  {
   "cell_type": "code",
   "execution_count": 42,
   "metadata": {
    "scrolled": true
   },
   "outputs": [
    {
     "data": {
      "text/plain": [
       "Text(0.5,1,'Coefficients in the Lasso Model')"
      ]
     },
     "execution_count": 42,
     "metadata": {},
     "output_type": "execute_result"
    },
    {
     "data": {
      "image/png": "[encoded data removed]",
      "text/plain": [
       "<matplotlib.figure.Figure at 0x1f0e89a6860>"
      ]
     },
     "metadata": {},
     "output_type": "display_data"
    }
   ],
   "source": [
    "coef = pd.Series(model_lasso.coef_, index = X_train.columns)\n",
    "#print(“Lasso picked “ + str(sum(coef != 0)) + “ variables and eliminated the other “ + str(sum(coef == 0)) + “ variables”)\n",
    "imp_coef = pd.concat([coef.sort_values().head(10),\n",
    "                     coef.sort_values().tail(10)]) \n",
    "plt.rcParams['figure.figsize'] = (8.0, 10.0)\n",
    "imp_coef.plot(kind = \"barh\")\n",
    "plt.title(\"Coefficients in the Lasso Model\")"
   ]
  },
  {
   "cell_type": "markdown",
   "metadata": {},
   "source": [
    "https://www.lancard.com/blog/2018/06/11/kaggle%E3%82%92%E8%A9%A6%E3%81%97%E3%81%A6%E3%81%BF%E3%81%9F/"
   ]
  },
  {
   "cell_type": "markdown",
   "metadata": {},
   "source": [
    "# SVR"
   ]
  },
  {
   "cell_type": "code",
   "execution_count": 45,
   "metadata": {},
   "outputs": [],
   "source": [
    "from sklearn import preprocessing\n",
    "sc=preprocessing.StandardScaler()\n",
    "sc.fit(X_train,y)  # StandardScalerの学習\n",
    "X=sc.transform(X_train)  # 学習結果をもとにX_trainのStandardScalerによる変換"
   ]
  },
  {
   "cell_type": "code",
   "execution_count": null,
   "metadata": {
    "collapsed": true
   },
   "outputs": [],
   "source": [
    "# test_id\n",
    "ls = Lasso(alpha = 0.01)\n",
    "pipeline = make_pipeline(scaler, ls)\n",
    "pipeline.fit(train_x,train_y)\n",
    "test_SalePrice = pd.DataFrame(np.exp(pipeline.predict(test_data)),columns=['SalePrice'])\n",
    "test_Id = pd.DataFrame(test_id,columns=['Id'])\n",
    "pd.concat([test_Id, test_SalePrice],axis=1).to_csv('../output/output.csv',index=False)\n",
    "# https://yolo-kiyoshi.com/2018/12/17/post-1003/"
   ]
  },
  {
   "cell_type": "markdown",
   "metadata": {},
   "source": [
    "# 決定木"
   ]
  },
  {
   "cell_type": "markdown",
   "metadata": {},
   "source": [
    "目的：決定木とは木構造を用いて分類や回帰を行う機械学習の一つ。　　\n",
    "分類木と回帰木の総称として決定木という。分類木は対象を分類する問題を解き、回帰木は対象の数値を推定する問題を解く。"
   ]
  },
  {
   "cell_type": "markdown",
   "metadata": {},
   "source": [
    "# アルゴリズムの種類"
   ]
  },
  {
   "cell_type": "code",
   "execution_count": null,
   "metadata": {
    "collapsed": true
   },
   "outputs": [],
   "source": [
    "1)CART  \n",
    "目的変数といくつかの説明変数があるときに、まずは、目的変数を最もよく「分類」する、説明変数の分岐を生成する。これを、ルートノード（root node）  \n",
    "という。  "
   ]
  },
  {
   "cell_type": "markdown",
   "metadata": {
    "collapsed": true
   },
   "source": [
    "2)C4.5(C5.0)  \n",
    "CARTでは2つにしか分岐させられないが、C4.5では３つ以上にも分岐が可能。  \n",
    "交差エントロピーと交差エントロピーから求める「Gain比」を利用して、ノードを分割する際に利用する特徴量を判断する。"
   ]
  },
  {
   "cell_type": "markdown",
   "metadata": {},
   "source": [
    "# 教師ありかなしか"
   ]
  },
  {
   "cell_type": "markdown",
   "metadata": {
    "collapsed": true
   },
   "source": [
    "ノンパラメトリックな教師あり学習の手法  \n",
    "ノンパラメトリックとは母数（パラメータ）によらないことを意味する  \n",
    "(パラメトリックとは母数（パラメータ)によることを意味する）"
   ]
  },
  {
   "cell_type": "markdown",
   "metadata": {
    "collapsed": true
   },
   "source": [
    "# 長所"
   ]
  },
  {
   "cell_type": "markdown",
   "metadata": {},
   "source": [
    "1)結果をグラフィカルに提示できることから解釈が比較的容易であること"
   ]
  },
  {
   "cell_type": "code",
   "execution_count": null,
   "metadata": {
    "collapsed": true
   },
   "outputs": [],
   "source": [
    "2)目的変数と説明変数の非線形構造および交互作用を有意義に捉えることができること"
   ]
  },
  {
   "cell_type": "code",
   "execution_count": null,
   "metadata": {
    "collapsed": true
   },
   "outputs": [],
   "source": [
    "3)説明変数の再コード化等を検討する必要がない"
   ]
  },
  {
   "cell_type": "markdown",
   "metadata": {},
   "source": [
    "# 短所"
   ]
  },
  {
   "cell_type": "code",
   "execution_count": null,
   "metadata": {
    "collapsed": true
   },
   "outputs": [],
   "source": [
    "1)目的変数と説明変数によっては、パラメータをどうチューニングしても、望ましいレベルの木構造が得られない場合が多いこと"
   ]
  },
  {
   "cell_type": "code",
   "execution_count": null,
   "metadata": {
    "collapsed": true
   },
   "outputs": [],
   "source": [
    "2)モデルとしてのロバスト性（頑健性）が弱く、適切でない説明変数が入ると、その変数にモデル全体が引っ張られてしまう"
   ]
  },
  {
   "cell_type": "code",
   "execution_count": null,
   "metadata": {},
   "outputs": [],
   "source": [
    "# 決定木\n",
    "from sklearn.tree import DecisionTreeRegressor\n",
    "tree = DecisionTreeRegressor()\n",
    "tree.fit(X_train,y)\n",
    "y_pred = tree.predict(X_train)\n",
    "#tree_mse = mean_squared_error(y_pred,y)\n",
    "print(\"DecisionTree RMSE:\",np.sqrt(tree_mse))"
   ]
  },
  {
   "cell_type": "markdown",
   "metadata": {
    "collapsed": true
   },
   "source": [
    "# Keras"
   ]
  },
  {
   "cell_type": "code",
   "execution_count": null,
   "metadata": {},
   "outputs": [],
   "source": [
    "from keras.models import Sequential\n",
    "from keras.layers import Dense\n",
    "from keras.wrappers.scikit_learn import KerasRegressor\n",
    "\n",
    "def create_model(optimizer='adam'):\n",
    "    model = Sequential()\n",
    "    model.add(Dense(X_train.shape[1], input_dim=X_train.shape[1], kernel_initializer='normal', activation='relu'))\n",
    "    model.add(Dense(16, kernel_initializer='normal', activation='relu'))\n",
    "    model.add(Dense(1, kernel_initializer='normal'))\n",
    "\n",
    "    model.compile(loss='mean_squared_error', optimizer=optimizer)\n",
    "    return model\n",
    "\n",
    "model = KerasRegressor(build_fn=create_model, verbose=0)\n",
    "# define the grid search parameters\n",
    "optimizer = ['SGD','Adam']\n",
    "batch_size = [10, 30, 50]\n",
    "epochs = [10, 50, 100]\n",
    "param_grid = dict(optimizer=optimizer, batch_size=batch_size, epochs=epochs)\n",
    "reg_dl = GridSearchCV(estimator=model, param_grid=param_grid, n_jobs=-1)\n",
    "reg_dl.fit(X_train, y_train)\n",
    "# https://qiita.com/katsu1110/items/a1c3185fec39e5629bcb"
   ]
  },
  {
   "cell_type": "code",
   "execution_count": null,
   "metadata": {
    "collapsed": true
   },
   "outputs": [],
   "source": [
    "# submission\n",
    "submission = pd.DataFrame({\n",
    "    \"Id\": test_ID,\n",
    "    \"SalePrice\": y_pred\n",
    "})\n",
    "submission.to_csv('houseprice.csv', index=False)\n",
    "# https://qiita.com/katsu1110/items/a1c3185fec39e5629bcb"
   ]
  },
  {
   "cell_type": "code",
   "execution_count": null,
   "metadata": {
    "collapsed": true
   },
   "outputs": [],
   "source": []
  },
  {
   "cell_type": "code",
   "execution_count": null,
   "metadata": {
    "collapsed": true
   },
   "outputs": [],
   "source": []
  }
 ],
 "metadata": {
  "kernelspec": {
   "display_name": "Python 3",
   "language": "python",
   "name": "python3"
  },
  "language_info": {
   "codemirror_mode": {
    "name": "ipython",
    "version": 3
   },
   "file_extension": ".py",
   "mimetype": "text/x-python",
   "name": "python",
   "nbconvert_exporter": "python",
   "pygments_lexer": "ipython3",
   "version": "3.7.1"
  }
 },
 "nbformat": 4,
 "nbformat_minor": 2
}
